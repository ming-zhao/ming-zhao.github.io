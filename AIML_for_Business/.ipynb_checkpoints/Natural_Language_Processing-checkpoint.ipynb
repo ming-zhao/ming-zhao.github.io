{
 "cells": [
  {
   "cell_type": "raw",
   "metadata": {},
   "source": [
    "---\n",
    "title: \"Natural Language Processing\"\n",
    "author: Ming Zhao\n",
    "date: last-modified\n",
    "format: \n",
    "  html:\n",
    "    toc: true\n",
    "    toc-location: left\n",
    "    code-fold: true\n",
    "    html-math-method: katex\n",
    "    code-line-numbers: false\n",
    "    theme: cosmo\n",
    "jupyter: python3\n",
    "---"
   ]
  },
  {
   "cell_type": "code",
   "execution_count": null,
   "metadata": {},
   "outputs": [],
   "source": []
  },
  {
   "cell_type": "markdown",
   "metadata": {},
   "source": [
    "# Word Embedding\n",
    "\n",
    "Machine learning models only work with a numeric representation of input data. Suppose we have a training corpus with three  sentences:\n",
    "\n",
    "- \"the dog saw a cat\", \n",
    "- \"the dog chased the cat\", \n",
    "- \"the cat climbed a tree\".\n",
    "\n",
    "The corpus vocabulary has eight words, which are listed alphabetically as follows\n",
    "\n",
    "|index | vocabulary | \n",
    "| --- | ---  |\n",
    "|1 |a   | \n",
    "|2 |cat |\n",
    "|3 |chased |\n",
    "|4 |climbed |\n",
    "|5 |dog |\n",
    "|6 |saw |\n",
    "|7 |the |\n",
    "|8 |tree |\n",
    "\n",
    "## Tokenization\n",
    "\n",
    "The different units into which you can break down text are called tokens. The token can be a word (e.g. \"cat\"), or a phrase (e.g., \"the cat\", or \"a cat\"). Eventually, we will transform each token to a numeric vector."
   ]
  },
  {
   "cell_type": "code",
   "execution_count": 41,
   "metadata": {},
   "outputs": [
    {
     "name": "stdout",
     "output_type": "stream",
     "text": [
      "The sequences generated from text are: [[1, 3, 5, 4, 2], [1, 3, 6, 1, 2], [1, 2, 7, 4, 8]]\n"
     ]
    }
   ],
   "source": [
    "from tensorflow.keras.preprocessing.text import Tokenizer\n",
    "\n",
    "texts = [\"the dog saw a cat\",\n",
    "         \"the dog chased the cat\",\n",
    "         \"the cat climbed a tree\"]\n",
    "\n",
    "tokenizer = Tokenizer()\n",
    "tokenizer.fit_on_texts(texts)\n",
    "sequences = tokenizer.texts_to_sequences(texts)\n",
    "# print(\"The count of words\", tokenizer.word_counts)\n",
    "print(\"The sequences generated from text are:\", sequences)"
   ]
  },
  {
   "cell_type": "markdown",
   "metadata": {},
   "source": [
    "The code provides an example of tokenization. It creates tokens for each of the 8 words in the vocabulary and assigns an integer to each token (e.g., \"then\" = 1 and \"dog\" = 3). As a result, each sentence is transformed into a sequence of numbers."
   ]
  },
  {
   "cell_type": "markdown",
   "metadata": {},
   "source": [
    "## One-hot encoding\n",
    "\n",
    "One-hot encoding is the most common, most basic way to turn a token into a vector. It is a binary vector of the size of the vocabulary where the vector has 1 for the index of the word, and 0 elsewhere. For example, \"cat\" has index 2 in the alphabetical order of the vocabulary. Then, the one-hot encoding of the word \"cat\" can be\n",
    "$$\\underbrace{[0,1,0,0,0,0,0,0]}_{8}$$\n",
    "and, the sentence \"the dog saw a cat\" can be represented as a $5 \\times 8$ matrix\n",
    "\n",
    "$$\n",
    "\\left[\n",
    "\\begin{matrix}\n",
    "0,0,0,0,0,0,1,0 \\\\\n",
    "0,0,0,0,1,0,0,0\\\\\n",
    "0,0,0,0,0,1,0,0\\\\\n",
    "1,0,0,0,0,0,0,0\\\\\n",
    "0,1,0,0,0,0,0,0\n",
    "\\end{matrix} \\right]\n",
    "$$\n",
    "\n",
    "since the sentence has 5 words and the corpus vocabulary has 8 words. recall that this is exactly how we reshaped labels when using ConvNet for MNIST data.\n",
    "\n",
    "One-hot encoding has two drawbacks for natural language processing (NLP) tasks:\n",
    "\n",
    "- The dimensionality of the vector space becomes very high and sparse because each vector has the size of the vocabulary.\n",
    "\n",
    "- There is no connection between words with similar meanings. For example, it is impossible to know that \"dog\" and \"cat\" are both pets."
   ]
  },
  {
   "cell_type": "markdown",
   "metadata": {},
   "source": [
    "## Frequency Encoding\n",
    "\n",
    "One-hot encoding is a binary vector of the size of the vocabulary where the vector is all zeros, but has 1 for the index of the word. \n",
    "We can also encode the sentence based on the frequency of each word's occurrence. Then, the sentence “the dog saw a cat” becomes an array\n",
    "\n",
    "$$[4, 2, 1, 2, 3]$$\n",
    "\n",
    "However, similar to one-hot encoding, this frequency-based encoding does not capture any relationships between words with similar meanings. Even worse, in our example, \"dog\" and \"a\" have the same frequency, making them indistinguishable from each other."
   ]
  },
  {
   "cell_type": "markdown",
   "metadata": {},
   "source": [
    "## Embedding\n",
    "\n",
    "Word embeddings are a popular and powerful way to represent words as vectors. These word vectors capture the semantic meaning of words, allowing for more effective processing in natural language processing (NLP) tasks.\n",
    "\n",
    "<img src=\"https://raw.githubusercontent.com/ming-zhao/ming-zhao.github.io/master/AIML_for_Business/figure/word_embedding.jpg\" width=\"800\">\n",
    "\n",
    "Given input texts, a word embedding model constructs a numeric vector for each word, transforming the text into a numerical representation. Initially, words are often represented using basic methods like one-hot encoding. These vectors are then passed through an embedding model. This model, built from large corpora of text, functions as a complex mathematical system that performs extensive calculations to generate more informative word vectors. These vectors position words with similar meanings close to each other in the vector space, effectively capturing their semantic relationships.\n",
    "\n",
    "Word embeddings are foundational in NLP, enabling advanced applications such as sentiment analysis, machine translation, and more. By capturing the nuances of language, word embeddings significantly enhance the performance of machine learning models in understanding and generating human language."
   ]
  },
  {
   "cell_type": "code",
   "execution_count": 31,
   "metadata": {},
   "outputs": [],
   "source": [
    "#| echo: false\n",
    "# import nltk\n",
    "# nltk.download('word2vec_sample')\n",
    "import gensim\n",
    "word2vec_sample = './model/pruned.word2vec.txt'\n",
    "model = gensim.models.KeyedVectors.load_word2vec_format(word2vec_sample, binary=False)"
   ]
  },
  {
   "cell_type": "markdown",
   "metadata": {},
   "source": [
    "Next, we will use a popular pre-trained embedding model, **word2vec**, to see how we can perform various operations with these vectors.\n",
    "\n",
    "In word2vec, each word is converted into a vector of numbers. For example, the word \"university\" might be represented as a 300-dimensional vector, meaning it has 300 numbers associated with it. These numbers capture various aspects of the word's meaning and context. The example below shows the first 4 numbers in the vector."
   ]
  },
  {
   "cell_type": "code",
   "execution_count": 53,
   "metadata": {},
   "outputs": [
    {
     "data": {
      "text/plain": [
       "array([-0.0604623, -0.0463157,  0.0678263,  0.114723 ], dtype=float32)"
      ]
     },
     "execution_count": 53,
     "metadata": {},
     "output_type": "execute_result"
    }
   ],
   "source": [
    "#| code-fold: false\n",
    "model['university'][:4]"
   ]
  },
  {
   "cell_type": "markdown",
   "metadata": {},
   "source": [
    "### Exploring Word Similarity\n",
    "\n",
    "One of the cool things about word embeddings is that we can measure how similar two words are by looking at the distance between their vectors. Words with similar meanings will have vectors that are close to each other.\n",
    "\n",
    "For instance, using the word2vec model, we can find the top 3 words most similar to \"university\" are: \"universities\", \"faculty\", \"undergraduate\". The number after each word quantifies the probability of the similarity."
   ]
  },
  {
   "cell_type": "code",
   "execution_count": 48,
   "metadata": {},
   "outputs": [
    {
     "data": {
      "text/plain": [
       "[('universities', 0.7003918290138245),\n",
       " ('faculty', 0.6780907511711121),\n",
       " ('undergraduate', 0.6587096452713013)]"
      ]
     },
     "execution_count": 48,
     "metadata": {},
     "output_type": "execute_result"
    }
   ],
   "source": [
    "#| code-fold: false\n",
    "model.most_similar(positive=['university'], topn = 3)"
   ]
  },
  {
   "cell_type": "markdown",
   "metadata": {},
   "source": [
    "### Finding the Odd Word Out\n",
    "\n",
    "Word embeddings can also help us find a word that doesn't fit in a list of words. For example, given the list [\"apple,\" \"banana,\" \"car,\" \"orange\"], the word \"car\" would be identified as the odd one out because it is not a fruit."
   ]
  },
  {
   "cell_type": "code",
   "execution_count": 50,
   "metadata": {},
   "outputs": [
    {
     "data": {
      "text/plain": [
       "'car'"
      ]
     },
     "execution_count": 50,
     "metadata": {},
     "output_type": "execute_result"
    }
   ],
   "source": [
    "#| code-fold: false\n",
    "model.doesnt_match([\"apple\", \"banana\", \"car\", \"orange\"])"
   ]
  },
  {
   "cell_type": "code",
   "execution_count": 34,
   "metadata": {},
   "outputs": [
    {
     "data": {
      "text/plain": [
       "'cereal'"
      ]
     },
     "execution_count": 34,
     "metadata": {},
     "output_type": "execute_result"
    }
   ],
   "source": [
    "#| code-fold: false\n",
    "model.doesnt_match(['breakfast', 'cereal', 'dinner', 'lunch'])"
   ]
  },
  {
   "cell_type": "markdown",
   "metadata": {},
   "source": [
    "### Performing Mathematical Operations\n",
    "Another interesting feature of word embeddings is that we can perform mathematical operations with the vectors to find relationships between words. Here are two examples:\n",
    "\n",
    "> Word Analogy: \"woman\" + \"king\" - \"man\" = \"queen\"\n",
    "\n",
    "This operation finds that the relationship between \"woman\" and \"man\" is similar to the relationship between \"queen\" and \"king.\"\n",
    "\n",
    "> Geographic Analogy: \"Paris\" + \"Germany\" - \"Berlin\" = \"France\"\n",
    "\n",
    "This operation shows that the relationship between \"Paris\" and \"Berlin\" is similar to the relationship between \"France\" and \"Germany.\""
   ]
  },
  {
   "cell_type": "code",
   "execution_count": 56,
   "metadata": {},
   "outputs": [
    {
     "data": {
      "text/plain": [
       "[('queen', 0.7118193507194519)]"
      ]
     },
     "execution_count": 56,
     "metadata": {},
     "output_type": "execute_result"
    }
   ],
   "source": [
    "#| code-fold: false\n",
    "model.most_similar(positive=['woman','king'], negative=['man'], topn = 1)"
   ]
  },
  {
   "cell_type": "code",
   "execution_count": 57,
   "metadata": {},
   "outputs": [
    {
     "data": {
      "text/plain": [
       "[('France', 0.7884091138839722)]"
      ]
     },
     "execution_count": 57,
     "metadata": {},
     "output_type": "execute_result"
    }
   ],
   "source": [
    "#| code-fold: false\n",
    "model.most_similar(positive=['Paris','Germany'], negative=['Berlin'], topn = 1)"
   ]
  },
  {
   "cell_type": "markdown",
   "metadata": {},
   "source": [
    "Word embeddings like word2vec provide a powerful way to represent words and their meanings in a numerical form. This allows us to perform various operations to understand word relationships, find similarities, and even solve word analogies. These capabilities make word embeddings an essential tool in natural language processing and machine learning."
   ]
  },
  {
   "cell_type": "markdown",
   "metadata": {},
   "source": [
    "# Applications"
   ]
  },
  {
   "cell_type": "markdown",
   "metadata": {},
   "source": [
    "## Sentiment Analysis of IMDB Movie Reviews\n",
    "\n",
    "The IMDB dataset is a commonly used dataset for machine learning tutorials related to text and language. It contains 50,000 movie reviews, with 25,000 in the training set and 25,000 in the testing set, collected from IMDB. Each review in the dataset has been labeled with a binary sentiment: positive (1) or negative (0). The following code loads the IMDB data:\n",
    "```python\n",
    "(x_train, y_train), (x_test, y_test) = imdb.load_data(num_words=max_features)\n",
    "```\n",
    "The following code snippet shows the 11th to 15th words in the dictionary of this dataset:"
   ]
  },
  {
   "cell_type": "code",
   "execution_count": 64,
   "metadata": {},
   "outputs": [
    {
     "name": "stdout",
     "output_type": "stream",
     "text": [
      "Example of dictionary:\n",
      " {11: 'this', 12: 'that', 13: 'was', 14: 'as', 15: 'for'}\n"
     ]
    }
   ],
   "source": [
    "from keras.datasets import imdb\n",
    "\n",
    "max_features = 10000\n",
    "(x_train, y_train), (x_test, y_test) = imdb.load_data(num_words=max_features)\n",
    "\n",
    "word_index = imdb.get_word_index()\n",
    "reverse_word_index = dict([(value, key) for (key, value) in word_index.items()])\n",
    "\n",
    "print(\"Example of dictionary:\\n\", dict(sorted(reverse_word_index.items())[10:15]))"
   ]
  },
  {
   "cell_type": "markdown",
   "metadata": {},
   "source": [
    "The raw data contains the text of each movie review. The following code snippet shows the first review in the training data, which contains 218 words and has a positive sentiment:"
   ]
  },
  {
   "cell_type": "code",
   "execution_count": 70,
   "metadata": {},
   "outputs": [
    {
     "name": "stdout",
     "output_type": "stream",
     "text": [
      "Review: ? this film was just brilliant casting location scenery story direction everyone's really suited the part they played and you could just imagine being there robert ? is an amazing actor and now the same being director ? father came from the same scottish island as myself so i loved the fact there was a real connection with this film the witty remarks throughout the film were great it was just brilliant so much that i bought the film as soon as it was released for ? and would recommend it to everyone to watch and the fly fishing was amazing really cried at the end it was so sad and you know what they say if you cry at a film it must have been good and this definitely was also ? to the two little boy's that played the ? of norman and paul they were just brilliant children are often left out of the ? list i think because the stars that play them all grown up are such a big profile for the whole film but these children are amazing and should be praised for what they have done don't you think the whole story was so lovely because it was true and was someone's life after all that was shared with us all\n",
      "\n",
      "\n",
      "Number of words:218\n",
      "\n",
      "sentiment: 1\n"
     ]
    }
   ],
   "source": [
    "#| output: asis\n",
    "\n",
    "def show_review(index):\n",
    "    decoded_review = ' '.join([reverse_word_index.get(i - 3, '?') for i in x_train[index]])\n",
    "    print('Review:', decoded_review)\n",
    "    print('\\n')\n",
    "    print('Number of words:{}'.format(len(decoded_review.split())))\n",
    "    print('\\nsentiment:', y_train[0])\n",
    "    # print('Indices for all ?s:', [x_train[index][i] for i, w in enumerate(decoded_review.split()) if w == '?'])\n",
    "show_review(0)\n",
    "# print(\"Decode review x_train[0][:10]]:\\n\",\n",
    "#       ' '.join([reverse_word_index.get(i - 3, '?') for i in x_train[0][:10]]))"
   ]
  },
  {
   "cell_type": "markdown",
   "metadata": {},
   "source": [
    "Next, we ask AI to help perform some basic exploratory data analysis. \n",
    "\n",
    "::: {.callout-tip collapse=\"false\" title=\"Prompt\"}\n",
    "\n",
    "Using the IMDB dataset in Keras, we generate key statistics for both the training and test datasets. These statistics include:\n",
    "\n",
    "- Number of reviews\n",
    "  \n",
    "- Proportion of positive reviews\n",
    "  \n",
    "- Proportion of negative reviews\n",
    "\n",
    "- Number of words in positive reviews (show min/max/median)\n",
    "  \n",
    "- Number of words in negative reviews (show min/max/median)\n",
    "  \n",
    "Creates a table with one column for the training data and another column for the test data.\n",
    "\n",
    ":::"
   ]
  },
  {
   "cell_type": "code",
   "execution_count": 60,
   "metadata": {},
   "outputs": [
    {
     "data": {
      "text/html": [
       "<div>\n",
       "<style scoped>\n",
       "    .dataframe tbody tr th:only-of-type {\n",
       "        vertical-align: middle;\n",
       "    }\n",
       "\n",
       "    .dataframe tbody tr th {\n",
       "        vertical-align: top;\n",
       "    }\n",
       "\n",
       "    .dataframe thead th {\n",
       "        text-align: right;\n",
       "    }\n",
       "</style>\n",
       "<table border=\"1\" class=\"dataframe\">\n",
       "  <thead>\n",
       "    <tr style=\"text-align: right;\">\n",
       "      <th></th>\n",
       "      <th>Statistics</th>\n",
       "      <th>Train set</th>\n",
       "      <th>Test set</th>\n",
       "    </tr>\n",
       "  </thead>\n",
       "  <tbody>\n",
       "    <tr>\n",
       "      <th>0</th>\n",
       "      <td>Number of reviews</td>\n",
       "      <td>25000.0</td>\n",
       "      <td>25000.0</td>\n",
       "    </tr>\n",
       "    <tr>\n",
       "      <th>1</th>\n",
       "      <td>Proportion of positive reviews</td>\n",
       "      <td>0.5</td>\n",
       "      <td>0.5</td>\n",
       "    </tr>\n",
       "    <tr>\n",
       "      <th>2</th>\n",
       "      <td>Proportion of negative reviews</td>\n",
       "      <td>0.5</td>\n",
       "      <td>0.5</td>\n",
       "    </tr>\n",
       "    <tr>\n",
       "      <th>3</th>\n",
       "      <td>Number of words in positive reviews (Min)</td>\n",
       "      <td>13.0</td>\n",
       "      <td>10.0</td>\n",
       "    </tr>\n",
       "    <tr>\n",
       "      <th>4</th>\n",
       "      <td>Number of words in positive reviews (Median)</td>\n",
       "      <td>178.0</td>\n",
       "      <td>172.0</td>\n",
       "    </tr>\n",
       "    <tr>\n",
       "      <th>5</th>\n",
       "      <td>Number of words in positive reviews (Max)</td>\n",
       "      <td>2494.0</td>\n",
       "      <td>2315.0</td>\n",
       "    </tr>\n",
       "    <tr>\n",
       "      <th>6</th>\n",
       "      <td>Number of words in negative reviews (Min)</td>\n",
       "      <td>11.0</td>\n",
       "      <td>7.0</td>\n",
       "    </tr>\n",
       "    <tr>\n",
       "      <th>7</th>\n",
       "      <td>Number of words in negative reviews (Median)</td>\n",
       "      <td>179.0</td>\n",
       "      <td>176.0</td>\n",
       "    </tr>\n",
       "    <tr>\n",
       "      <th>8</th>\n",
       "      <td>Number of words in negative reviews (Max)</td>\n",
       "      <td>1571.0</td>\n",
       "      <td>1095.0</td>\n",
       "    </tr>\n",
       "  </tbody>\n",
       "</table>\n",
       "</div>"
      ],
      "text/plain": [
       "                                     Statistics  Train set  Test set\n",
       "0                             Number of reviews    25000.0   25000.0\n",
       "1                Proportion of positive reviews        0.5       0.5\n",
       "2                Proportion of negative reviews        0.5       0.5\n",
       "3     Number of words in positive reviews (Min)       13.0      10.0\n",
       "4  Number of words in positive reviews (Median)      178.0     172.0\n",
       "5     Number of words in positive reviews (Max)     2494.0    2315.0\n",
       "6     Number of words in negative reviews (Min)       11.0       7.0\n",
       "7  Number of words in negative reviews (Median)      179.0     176.0\n",
       "8     Number of words in negative reviews (Max)     1571.0    1095.0"
      ]
     },
     "execution_count": 60,
     "metadata": {},
     "output_type": "execute_result"
    }
   ],
   "source": [
    "import numpy as np\n",
    "import pandas as pd\n",
    "from tensorflow.keras.datasets import imdb\n",
    "\n",
    "# Load the IMDB dataset\n",
    "(train_data, train_labels), (test_data, test_labels) = imdb.load_data()\n",
    "\n",
    "# Calculate key statistics for the training data\n",
    "num_train_reviews = len(train_data)\n",
    "num_test_reviews = len(test_data)\n",
    "\n",
    "# Proportions of positive and negative reviews\n",
    "proportion_positive_train = np.sum(train_labels) / num_train_reviews\n",
    "proportion_negative_train = 1 - proportion_positive_train\n",
    "\n",
    "proportion_positive_test = np.sum(test_labels) / num_test_reviews\n",
    "proportion_negative_test = 1 - proportion_positive_test\n",
    "\n",
    "# Number of words in positive/negative reviews\n",
    "def word_counts(data, labels, positive=True):\n",
    "    return [len(review) for review, label in zip(data, labels) if label == positive]\n",
    "\n",
    "train_data_positive = word_counts(train_data, train_labels, positive=True)\n",
    "train_data_negative = word_counts(train_data, train_labels, positive=False)\n",
    "test_data_positive = word_counts(test_data, test_labels, positive=True)\n",
    "test_data_negative = word_counts(test_data, test_labels, positive=False)\n",
    "\n",
    "# Calculate min, median, max\n",
    "def min_median_max(word_counts):\n",
    "    return np.min(word_counts), np.median(word_counts), np.max(word_counts)\n",
    "\n",
    "min_words_positive_train, median_words_positive_train, max_words_positive_train = min_median_max(train_data_positive)\n",
    "min_words_negative_train, median_words_negative_train, max_words_negative_train = min_median_max(train_data_negative)\n",
    "\n",
    "min_words_positive_test, median_words_positive_test, max_words_positive_test = min_median_max(test_data_positive)\n",
    "min_words_negative_test, median_words_negative_test, max_words_negative_test = min_median_max(test_data_negative)\n",
    "\n",
    "# Results\n",
    "data = {\n",
    "    \"Statistics\": [\n",
    "        \"Number of reviews\", \"Proportion of positive reviews\", \"Proportion of negative reviews\",\n",
    "        \"Number of words in positive reviews (Min)\", \n",
    "        \"Number of words in positive reviews (Median)\", \"Number of words in positive reviews (Max)\",\n",
    "        \"Number of words in negative reviews (Min)\", \n",
    "        \"Number of words in negative reviews (Median)\", \"Number of words in negative reviews (Max)\"\n",
    "    ],\n",
    "    \"Train set\": [\n",
    "        num_train_reviews, proportion_positive_train, proportion_negative_train,\n",
    "        min_words_positive_train, median_words_positive_train, max_words_positive_train,\n",
    "        min_words_negative_train, median_words_negative_train, max_words_negative_train\n",
    "    ],\n",
    "    \"Test set\": [\n",
    "        num_test_reviews, proportion_positive_test, proportion_negative_test,\n",
    "        min_words_positive_test, median_words_positive_test, max_words_positive_test,\n",
    "        min_words_negative_test, median_words_negative_test, max_words_negative_test\n",
    "    ]\n",
    "}\n",
    "\n",
    "# Create a DataFrame\n",
    "df = pd.DataFrame(data)\n",
    "\n",
    "# Display the DataFrame\n",
    "df"
   ]
  },
  {
   "cell_type": "markdown",
   "metadata": {},
   "source": [
    "The reviews are equally split between positive and negative reviews for both sets. We can see some differences between positive and negative reviews, especially the minimum and maximum number of words per review. Besides understanding the dataset, the reason for looking at some of these key summary statistics is to determine whether we can engineer certain numeric features and build a simple logistic regression or tree-based classifier for sentiment analysis.\n",
    "\n",
    "::: {.callout-tip collapse=\"false\" title=\"Prompt\"}\n",
    "\n",
    "Generate histogram of word count per review for positive sentiment and negative sentiment in the training data.\n",
    "\n",
    ":::\n",
    "\n",
    "In that vein, let’s examine the distribution of the number of words per review, comparing positive and negative sentiments. Are there any differences in the number of words for positive and negative reviews? And if so, are negative reviews usually longer or shorter than positive reviews? We can answer these questions by looking at @fig-wdcnt. "
   ]
  },
  {
   "cell_type": "code",
   "execution_count": 62,
   "metadata": {},
   "outputs": [
    {
     "data": {
      "image/png": "[encoded data removed]",
      "text/plain": [
       "<Figure size 1200x600 with 1 Axes>"
      ]
     },
     "metadata": {},
     "output_type": "display_data"
    },
    {
     "data": {
      "image/png": "[encoded data removed]",
      "text/plain": [
       "<Figure size 1200x600 with 1 Axes>"
      ]
     },
     "metadata": {},
     "output_type": "display_data"
    }
   ],
   "source": [
    "#| label: fig-wdcnt\n",
    "#| echo: true\n",
    "#| fig-cap: \"Historgram of words count\"\n",
    "#| fig-subcap: \n",
    "#|    - \"positive sentiment\"\n",
    "#|    - \"negative sentiment\"\n",
    "\n",
    "import numpy as np\n",
    "from tensorflow.keras.datasets import imdb\n",
    "import matplotlib.pyplot as plt\n",
    "import seaborn as sns\n",
    "\n",
    "# Load the IMDB dataset\n",
    "(train_data, train_labels), _ = imdb.load_data()\n",
    "\n",
    "# Function to get word counts\n",
    "def word_counts(data, labels, positive=True):\n",
    "    return [len(review) for review, label in zip(data, labels) if label == positive]\n",
    "\n",
    "# Get word counts for positive and negative reviews\n",
    "train_data_positive = word_counts(train_data, train_labels, positive=True)\n",
    "train_data_negative = word_counts(train_data, train_labels, positive=False)\n",
    "\n",
    "# Plot histogram for positive reviews\n",
    "plt.figure(figsize=(12, 6))\n",
    "sns.histplot(train_data_positive, bins=50, kde=True, color='blue', label='Positive Reviews')\n",
    "plt.xlabel('Number of Words')\n",
    "plt.ylabel('Frequency')\n",
    "plt.title('Histogram of Word Count per Review (Positive Sentiment)')\n",
    "plt.legend()\n",
    "plt.show()\n",
    "\n",
    "# Plot histogram for negative reviews\n",
    "plt.figure(figsize=(12, 6))\n",
    "sns.histplot(train_data_negative, bins=50, kde=True, color='red', label='Negative Reviews')\n",
    "plt.xlabel('Number of Words')\n",
    "plt.ylabel('Frequency')\n",
    "plt.title('Histogram of Word Count per Review (Negative Sentiment)')\n",
    "plt.legend()\n",
    "plt.show()"
   ]
  },
  {
   "cell_type": "markdown",
   "metadata": {},
   "source": [
    "In @fig-wdcnt, we can see no significant differences between positive and negative reviews in terms of the number of words. Therefore, the number of words in a review does not accurately predict whether the review is positive or negative."
   ]
  },
  {
   "cell_type": "markdown",
   "metadata": {},
   "source": [
    "Next, we will build a neural network model. Before training a machine learning model, the dataset needs to be preprocessed. This includes removing frequently occurring words that do not contribute much to the meaning of the text, such as stopwords like \"the,\" \"and,\" or \"a.\" Additionally, most machine learning algorithms require the same number of features, i.e., the same length for each review.\n",
    "\n",
    "To achieve this, the pad_sequences function sets the maximum number of words in each review (`maxlen`):\n",
    "```python\n",
    "x_train = pad_sequences(x_train, maxlen=maxlen)\n",
    "x_test = pad_sequences(x_test, maxlen=maxlen)\n",
    "```\n",
    "For reviews that have fewer than `maxlen` words, the above code pads them with \"0\" For reviews that have more than `maxlen` words, the code truncates them."
   ]
  },
  {
   "cell_type": "code",
   "execution_count": 73,
   "metadata": {},
   "outputs": [
    {
     "data": {
      "text/html": [
       "<pre style=\"white-space:pre;overflow-x:auto;line-height:normal;font-family:Menlo,'DejaVu Sans Mono',consolas,'Courier New',monospace\"><span style=\"font-weight: bold\">Model: \"sequential_5\"</span>\n",
       "</pre>\n"
      ],
      "text/plain": [
       "\u001b[1mModel: \"sequential_5\"\u001b[0m\n"
      ]
     },
     "metadata": {},
     "output_type": "display_data"
    },
    {
     "data": {
      "text/html": [
       "<pre style=\"white-space:pre;overflow-x:auto;line-height:normal;font-family:Menlo,'DejaVu Sans Mono',consolas,'Courier New',monospace\">┏━━━━━━━━━━━━━━━━━━━━━━━━━━━━━━━━━┳━━━━━━━━━━━━━━━━━━━━━━━━┳━━━━━━━━━━━━━━━┓\n",
       "┃<span style=\"font-weight: bold\"> Layer (type)                    </span>┃<span style=\"font-weight: bold\"> Output Shape           </span>┃<span style=\"font-weight: bold\">       Param # </span>┃\n",
       "┡━━━━━━━━━━━━━━━━━━━━━━━━━━━━━━━━━╇━━━━━━━━━━━━━━━━━━━━━━━━╇━━━━━━━━━━━━━━━┩\n",
       "│ embedding_5 (<span style=\"color: #0087ff; text-decoration-color: #0087ff\">Embedding</span>)         │ (<span style=\"color: #00af00; text-decoration-color: #00af00\">32</span>, <span style=\"color: #00af00; text-decoration-color: #00af00\">20</span>, <span style=\"color: #00af00; text-decoration-color: #00af00\">8</span>)            │        <span style=\"color: #00af00; text-decoration-color: #00af00\">80,000</span> │\n",
       "├─────────────────────────────────┼────────────────────────┼───────────────┤\n",
       "│ flatten_5 (<span style=\"color: #0087ff; text-decoration-color: #0087ff\">Flatten</span>)             │ (<span style=\"color: #00af00; text-decoration-color: #00af00\">32</span>, <span style=\"color: #00af00; text-decoration-color: #00af00\">160</span>)              │             <span style=\"color: #00af00; text-decoration-color: #00af00\">0</span> │\n",
       "├─────────────────────────────────┼────────────────────────┼───────────────┤\n",
       "│ dense_5 (<span style=\"color: #0087ff; text-decoration-color: #0087ff\">Dense</span>)                 │ (<span style=\"color: #00af00; text-decoration-color: #00af00\">32</span>, <span style=\"color: #00af00; text-decoration-color: #00af00\">1</span>)                │           <span style=\"color: #00af00; text-decoration-color: #00af00\">161</span> │\n",
       "└─────────────────────────────────┴────────────────────────┴───────────────┘\n",
       "</pre>\n"
      ],
      "text/plain": [
       "┏━━━━━━━━━━━━━━━━━━━━━━━━━━━━━━━━━┳━━━━━━━━━━━━━━━━━━━━━━━━┳━━━━━━━━━━━━━━━┓\n",
       "┃\u001b[1m \u001b[0m\u001b[1mLayer (type)                   \u001b[0m\u001b[1m \u001b[0m┃\u001b[1m \u001b[0m\u001b[1mOutput Shape          \u001b[0m\u001b[1m \u001b[0m┃\u001b[1m \u001b[0m\u001b[1m      Param #\u001b[0m\u001b[1m \u001b[0m┃\n",
       "┡━━━━━━━━━━━━━━━━━━━━━━━━━━━━━━━━━╇━━━━━━━━━━━━━━━━━━━━━━━━╇━━━━━━━━━━━━━━━┩\n",
       "│ embedding_5 (\u001b[38;5;33mEmbedding\u001b[0m)         │ (\u001b[38;5;34m32\u001b[0m, \u001b[38;5;34m20\u001b[0m, \u001b[38;5;34m8\u001b[0m)            │        \u001b[38;5;34m80,000\u001b[0m │\n",
       "├─────────────────────────────────┼────────────────────────┼───────────────┤\n",
       "│ flatten_5 (\u001b[38;5;33mFlatten\u001b[0m)             │ (\u001b[38;5;34m32\u001b[0m, \u001b[38;5;34m160\u001b[0m)              │             \u001b[38;5;34m0\u001b[0m │\n",
       "├─────────────────────────────────┼────────────────────────┼───────────────┤\n",
       "│ dense_5 (\u001b[38;5;33mDense\u001b[0m)                 │ (\u001b[38;5;34m32\u001b[0m, \u001b[38;5;34m1\u001b[0m)                │           \u001b[38;5;34m161\u001b[0m │\n",
       "└─────────────────────────────────┴────────────────────────┴───────────────┘\n"
      ]
     },
     "metadata": {},
     "output_type": "display_data"
    },
    {
     "data": {
      "text/html": [
       "<pre style=\"white-space:pre;overflow-x:auto;line-height:normal;font-family:Menlo,'DejaVu Sans Mono',consolas,'Courier New',monospace\"><span style=\"font-weight: bold\"> Total params: </span><span style=\"color: #00af00; text-decoration-color: #00af00\">160,324</span> (626.27 KB)\n",
       "</pre>\n"
      ],
      "text/plain": [
       "\u001b[1m Total params: \u001b[0m\u001b[38;5;34m160,324\u001b[0m (626.27 KB)\n"
      ]
     },
     "metadata": {},
     "output_type": "display_data"
    },
    {
     "data": {
      "text/html": [
       "<pre style=\"white-space:pre;overflow-x:auto;line-height:normal;font-family:Menlo,'DejaVu Sans Mono',consolas,'Courier New',monospace\"><span style=\"font-weight: bold\"> Trainable params: </span><span style=\"color: #00af00; text-decoration-color: #00af00\">80,161</span> (313.13 KB)\n",
       "</pre>\n"
      ],
      "text/plain": [
       "\u001b[1m Trainable params: \u001b[0m\u001b[38;5;34m80,161\u001b[0m (313.13 KB)\n"
      ]
     },
     "metadata": {},
     "output_type": "display_data"
    },
    {
     "data": {
      "text/html": [
       "<pre style=\"white-space:pre;overflow-x:auto;line-height:normal;font-family:Menlo,'DejaVu Sans Mono',consolas,'Courier New',monospace\"><span style=\"font-weight: bold\"> Non-trainable params: </span><span style=\"color: #00af00; text-decoration-color: #00af00\">0</span> (0.00 B)\n",
       "</pre>\n"
      ],
      "text/plain": [
       "\u001b[1m Non-trainable params: \u001b[0m\u001b[38;5;34m0\u001b[0m (0.00 B)\n"
      ]
     },
     "metadata": {},
     "output_type": "display_data"
    },
    {
     "data": {
      "text/html": [
       "<pre style=\"white-space:pre;overflow-x:auto;line-height:normal;font-family:Menlo,'DejaVu Sans Mono',consolas,'Courier New',monospace\"><span style=\"font-weight: bold\"> Optimizer params: </span><span style=\"color: #00af00; text-decoration-color: #00af00\">80,163</span> (313.14 KB)\n",
       "</pre>\n"
      ],
      "text/plain": [
       "\u001b[1m Optimizer params: \u001b[0m\u001b[38;5;34m80,163\u001b[0m (313.14 KB)\n"
      ]
     },
     "metadata": {},
     "output_type": "display_data"
    },
    {
     "name": "stdout",
     "output_type": "stream",
     "text": [
      "\u001b[1m782/782\u001b[0m \u001b[32m━━━━━━━━━━━━━━━━━━━━\u001b[0m\u001b[37m\u001b[0m \u001b[1m1s\u001b[0m 834us/step - acc: 0.7531 - loss: 0.5272\n",
      "Test accuracy: 0.7540\n"
     ]
    }
   ],
   "source": [
    "import keras\n",
    "from keras.datasets import imdb\n",
    "from keras import models, layers\n",
    "from keras.utils import pad_sequences\n",
    "from keras import backend as K\n",
    "\n",
    "max_features = 10000\n",
    "maxlen = 20\n",
    "(x_train, y_train), (x_test, y_test) = imdb.load_data(num_words=max_features)\n",
    "x_train = pad_sequences(x_train, maxlen=maxlen)\n",
    "x_test = pad_sequences(x_test, maxlen=maxlen)\n",
    "\n",
    "model = models.Sequential()\n",
    "model.add(layers.Embedding(input_dim=max_features, output_dim=8))\n",
    "model.add(layers.Flatten())\n",
    "model.add(layers.Dense(1, activation='sigmoid'))\n",
    "model.compile(optimizer='rmsprop', loss='binary_crossentropy', metrics=['acc'])\n",
    "history = model.fit(x_train, y_train, epochs=10, batch_size=32, validation_split=0.2, verbose=0)\n",
    "\n",
    "# show model summary\n",
    "model.summary()\n",
    "\n",
    "# show fitting information\n",
    "# vars(history)\n",
    "\n",
    "# # Create a Keras model with input and all layers' output\n",
    "# layer_outputs = [layer.output for layer in model.layers]\n",
    "# model_with_output = keras.Model(inputs=model.inputs, outputs=layer_outputs)\n",
    "\n",
    "# # Compute the outputs of all layers for the input tensor\n",
    "# outputs = model_with_output(x_train)\n",
    "# weights = [layer.get_weights() for layer in model.layers]\n",
    "\n",
    "# Evaluate the model on test data\n",
    "test_loss, test_acc = model.evaluate(x_test, y_test)\n",
    "print(f\"Test accuracy: {test_acc:.4f}\")"
   ]
  },
  {
   "cell_type": "markdown",
   "metadata": {},
   "source": [
    "This very simple model achieves an accuracy of 0.75, meaning it correctly predicts the sentiment of 75% of the test data. There are many ways to improve the model using advanced techniques such as RNN (Recurrent Neural Networks), LSTM (Long Short-Term Memory), GRU (Gated Recurrent Units), or Transformers, which is the most popular architecture used in many AI models today.\n",
    "\n",
    "Transformers have revolutionized the field of natural language processing (NLP). They use a mechanism called self-attention to process and generate sequences of words, allowing them to handle long-range dependencies in text more effectively than RNNs and LSTMs. Transformers are the backbone of many state-of-the-art models, such as BERT (Bidirectional Encoder Representations from Transformers) and GPT (Generative Pre-trained Transformer), which have achieved remarkable results in various NLP tasks."
   ]
  },
  {
   "cell_type": "markdown",
   "metadata": {},
   "source": [
    "## Recommendation System"
   ]
  },
  {
   "cell_type": "markdown",
   "metadata": {},
   "source": [
    "Next, we will demonstrate a cool application of embeddings to create a recommendation system. The retail data used to train our model contains the following information:\n",
    "\n",
    "- InvoiceNo\n",
    "  \n",
    "- StockCode\n",
    "  \n",
    "- Description\n",
    "  \n",
    "- Quantity\n",
    "  \n",
    "- InvoiceDate\n",
    "  \n",
    "- UnitPrice\n",
    "  \n",
    "- CustomerID\n",
    "  \n",
    "- Country\n",
    "\n",
    "The data is available at [link](https://raw.githubusercontent.com/ming-zhao/ming-zhao.github.io/master/AIML_for_Business/data/retail.csv). \n",
    "\n",
    "Upload the data to ChatGPT, and AI can be utilized to generate the summary statistics of the dataset.\n",
    "\n",
    "::: {.callout-tip collapse=\"false\" title=\"Prompt\"}\n",
    "\n",
    "Show a few rows of the data and generate summary statistics for each column, including measures such as count, mean, standard deviation, minimum, and maximum values.\n",
    "\n",
    ":::"
   ]
  },
  {
   "cell_type": "code",
   "execution_count": 77,
   "metadata": {},
   "outputs": [
    {
     "data": {
      "text/html": [
       "<div>\n",
       "<style scoped>\n",
       "    .dataframe tbody tr th:only-of-type {\n",
       "        vertical-align: middle;\n",
       "    }\n",
       "\n",
       "    .dataframe tbody tr th {\n",
       "        vertical-align: top;\n",
       "    }\n",
       "\n",
       "    .dataframe thead th {\n",
       "        text-align: right;\n",
       "    }\n",
       "</style>\n",
       "<table border=\"1\" class=\"dataframe\">\n",
       "  <thead>\n",
       "    <tr style=\"text-align: right;\">\n",
       "      <th></th>\n",
       "      <th>InvoiceNo</th>\n",
       "      <th>StockCode</th>\n",
       "      <th>Description</th>\n",
       "      <th>Quantity</th>\n",
       "      <th>InvoiceDate</th>\n",
       "      <th>UnitPrice</th>\n",
       "      <th>CustomerID</th>\n",
       "      <th>Country</th>\n",
       "    </tr>\n",
       "  </thead>\n",
       "  <tbody>\n",
       "    <tr>\n",
       "      <th>0</th>\n",
       "      <td>536365</td>\n",
       "      <td>85123A</td>\n",
       "      <td>white hanging heart t-light holder</td>\n",
       "      <td>6</td>\n",
       "      <td>2010-12-01 08:26:00</td>\n",
       "      <td>2.55</td>\n",
       "      <td>17850</td>\n",
       "      <td>United Kingdom</td>\n",
       "    </tr>\n",
       "    <tr>\n",
       "      <th>1</th>\n",
       "      <td>536365</td>\n",
       "      <td>71053</td>\n",
       "      <td>white metal lantern</td>\n",
       "      <td>6</td>\n",
       "      <td>2010-12-01 08:26:00</td>\n",
       "      <td>3.39</td>\n",
       "      <td>17850</td>\n",
       "      <td>United Kingdom</td>\n",
       "    </tr>\n",
       "    <tr>\n",
       "      <th>2</th>\n",
       "      <td>536365</td>\n",
       "      <td>84406B</td>\n",
       "      <td>cream cupid hearts coat hanger</td>\n",
       "      <td>8</td>\n",
       "      <td>2010-12-01 08:26:00</td>\n",
       "      <td>2.75</td>\n",
       "      <td>17850</td>\n",
       "      <td>United Kingdom</td>\n",
       "    </tr>\n",
       "    <tr>\n",
       "      <th>3</th>\n",
       "      <td>536365</td>\n",
       "      <td>84029G</td>\n",
       "      <td>knitted union flag hot water bottle</td>\n",
       "      <td>6</td>\n",
       "      <td>2010-12-01 08:26:00</td>\n",
       "      <td>3.39</td>\n",
       "      <td>17850</td>\n",
       "      <td>United Kingdom</td>\n",
       "    </tr>\n",
       "    <tr>\n",
       "      <th>4</th>\n",
       "      <td>536365</td>\n",
       "      <td>84029E</td>\n",
       "      <td>red woolly hottie white heart.</td>\n",
       "      <td>6</td>\n",
       "      <td>2010-12-01 08:26:00</td>\n",
       "      <td>3.39</td>\n",
       "      <td>17850</td>\n",
       "      <td>United Kingdom</td>\n",
       "    </tr>\n",
       "  </tbody>\n",
       "</table>\n",
       "</div>"
      ],
      "text/plain": [
       "  InvoiceNo StockCode                          Description  Quantity  \\\n",
       "0    536365    85123A   white hanging heart t-light holder         6   \n",
       "1    536365     71053                  white metal lantern         6   \n",
       "2    536365    84406B       cream cupid hearts coat hanger         8   \n",
       "3    536365    84029G  knitted union flag hot water bottle         6   \n",
       "4    536365    84029E       red woolly hottie white heart.         6   \n",
       "\n",
       "          InvoiceDate  UnitPrice CustomerID         Country  \n",
       "0 2010-12-01 08:26:00       2.55      17850  United Kingdom  \n",
       "1 2010-12-01 08:26:00       3.39      17850  United Kingdom  \n",
       "2 2010-12-01 08:26:00       2.75      17850  United Kingdom  \n",
       "3 2010-12-01 08:26:00       3.39      17850  United Kingdom  \n",
       "4 2010-12-01 08:26:00       3.39      17850  United Kingdom  "
      ]
     },
     "execution_count": 77,
     "metadata": {},
     "output_type": "execute_result"
    }
   ],
   "source": [
    "import pandas as pd\n",
    "import random\n",
    "\n",
    "base_url = (\n",
    "    \"https://raw.githubusercontent.com/ming-zhao/ming-zhao.github.io\"\n",
    "    \"/master/AIML_for_Business\"\n",
    ")\n",
    "data = pd.read_csv(base_url + \"/data/retail.csv\", dtype={'CustomerID': str}, parse_dates=['InvoiceDate'])\n",
    "data.head()"
   ]
  },
  {
   "cell_type": "code",
   "execution_count": 78,
   "metadata": {},
   "outputs": [
    {
     "data": {
      "text/html": [
       "<div>\n",
       "<style scoped>\n",
       "    .dataframe tbody tr th:only-of-type {\n",
       "        vertical-align: middle;\n",
       "    }\n",
       "\n",
       "    .dataframe tbody tr th {\n",
       "        vertical-align: top;\n",
       "    }\n",
       "\n",
       "    .dataframe thead th {\n",
       "        text-align: right;\n",
       "    }\n",
       "</style>\n",
       "<table border=\"1\" class=\"dataframe\">\n",
       "  <thead>\n",
       "    <tr style=\"text-align: right;\">\n",
       "      <th></th>\n",
       "      <th>InvoiceNo</th>\n",
       "      <th>StockCode</th>\n",
       "      <th>Description</th>\n",
       "      <th>Quantity</th>\n",
       "      <th>InvoiceDate</th>\n",
       "      <th>UnitPrice</th>\n",
       "      <th>CustomerID</th>\n",
       "      <th>Country</th>\n",
       "    </tr>\n",
       "  </thead>\n",
       "  <tbody>\n",
       "    <tr>\n",
       "      <th>count</th>\n",
       "      <td>406829</td>\n",
       "      <td>406829</td>\n",
       "      <td>406829</td>\n",
       "      <td>406829.000000</td>\n",
       "      <td>406829</td>\n",
       "      <td>406829.000000</td>\n",
       "      <td>406829</td>\n",
       "      <td>406829</td>\n",
       "    </tr>\n",
       "    <tr>\n",
       "      <th>unique</th>\n",
       "      <td>22190</td>\n",
       "      <td>3684</td>\n",
       "      <td>3896</td>\n",
       "      <td>NaN</td>\n",
       "      <td>NaN</td>\n",
       "      <td>NaN</td>\n",
       "      <td>4372</td>\n",
       "      <td>37</td>\n",
       "    </tr>\n",
       "    <tr>\n",
       "      <th>top</th>\n",
       "      <td>576339</td>\n",
       "      <td>85123A</td>\n",
       "      <td>white hanging heart t-light holder</td>\n",
       "      <td>NaN</td>\n",
       "      <td>NaN</td>\n",
       "      <td>NaN</td>\n",
       "      <td>17841</td>\n",
       "      <td>United Kingdom</td>\n",
       "    </tr>\n",
       "    <tr>\n",
       "      <th>freq</th>\n",
       "      <td>542</td>\n",
       "      <td>2077</td>\n",
       "      <td>2070</td>\n",
       "      <td>NaN</td>\n",
       "      <td>NaN</td>\n",
       "      <td>NaN</td>\n",
       "      <td>7983</td>\n",
       "      <td>361878</td>\n",
       "    </tr>\n",
       "    <tr>\n",
       "      <th>mean</th>\n",
       "      <td>NaN</td>\n",
       "      <td>NaN</td>\n",
       "      <td>NaN</td>\n",
       "      <td>12.061303</td>\n",
       "      <td>2011-07-10 16:30:57.879207424</td>\n",
       "      <td>3.460471</td>\n",
       "      <td>NaN</td>\n",
       "      <td>NaN</td>\n",
       "    </tr>\n",
       "    <tr>\n",
       "      <th>min</th>\n",
       "      <td>NaN</td>\n",
       "      <td>NaN</td>\n",
       "      <td>NaN</td>\n",
       "      <td>-80995.000000</td>\n",
       "      <td>2010-12-01 08:26:00</td>\n",
       "      <td>0.000000</td>\n",
       "      <td>NaN</td>\n",
       "      <td>NaN</td>\n",
       "    </tr>\n",
       "    <tr>\n",
       "      <th>25%</th>\n",
       "      <td>NaN</td>\n",
       "      <td>NaN</td>\n",
       "      <td>NaN</td>\n",
       "      <td>2.000000</td>\n",
       "      <td>2011-04-06 15:02:00</td>\n",
       "      <td>1.250000</td>\n",
       "      <td>NaN</td>\n",
       "      <td>NaN</td>\n",
       "    </tr>\n",
       "    <tr>\n",
       "      <th>50%</th>\n",
       "      <td>NaN</td>\n",
       "      <td>NaN</td>\n",
       "      <td>NaN</td>\n",
       "      <td>5.000000</td>\n",
       "      <td>2011-07-31 11:48:00</td>\n",
       "      <td>1.950000</td>\n",
       "      <td>NaN</td>\n",
       "      <td>NaN</td>\n",
       "    </tr>\n",
       "    <tr>\n",
       "      <th>75%</th>\n",
       "      <td>NaN</td>\n",
       "      <td>NaN</td>\n",
       "      <td>NaN</td>\n",
       "      <td>12.000000</td>\n",
       "      <td>2011-10-20 13:06:00</td>\n",
       "      <td>3.750000</td>\n",
       "      <td>NaN</td>\n",
       "      <td>NaN</td>\n",
       "    </tr>\n",
       "    <tr>\n",
       "      <th>max</th>\n",
       "      <td>NaN</td>\n",
       "      <td>NaN</td>\n",
       "      <td>NaN</td>\n",
       "      <td>80995.000000</td>\n",
       "      <td>2011-12-09 12:50:00</td>\n",
       "      <td>38970.000000</td>\n",
       "      <td>NaN</td>\n",
       "      <td>NaN</td>\n",
       "    </tr>\n",
       "    <tr>\n",
       "      <th>std</th>\n",
       "      <td>NaN</td>\n",
       "      <td>NaN</td>\n",
       "      <td>NaN</td>\n",
       "      <td>248.693370</td>\n",
       "      <td>NaN</td>\n",
       "      <td>69.315162</td>\n",
       "      <td>NaN</td>\n",
       "      <td>NaN</td>\n",
       "    </tr>\n",
       "  </tbody>\n",
       "</table>\n",
       "</div>"
      ],
      "text/plain": [
       "       InvoiceNo StockCode                         Description       Quantity  \\\n",
       "count     406829    406829                              406829  406829.000000   \n",
       "unique     22190      3684                                3896            NaN   \n",
       "top       576339    85123A  white hanging heart t-light holder            NaN   \n",
       "freq         542      2077                                2070            NaN   \n",
       "mean         NaN       NaN                                 NaN      12.061303   \n",
       "min          NaN       NaN                                 NaN  -80995.000000   \n",
       "25%          NaN       NaN                                 NaN       2.000000   \n",
       "50%          NaN       NaN                                 NaN       5.000000   \n",
       "75%          NaN       NaN                                 NaN      12.000000   \n",
       "max          NaN       NaN                                 NaN   80995.000000   \n",
       "std          NaN       NaN                                 NaN     248.693370   \n",
       "\n",
       "                          InvoiceDate      UnitPrice CustomerID  \\\n",
       "count                          406829  406829.000000     406829   \n",
       "unique                            NaN            NaN       4372   \n",
       "top                               NaN            NaN      17841   \n",
       "freq                              NaN            NaN       7983   \n",
       "mean    2011-07-10 16:30:57.879207424       3.460471        NaN   \n",
       "min               2010-12-01 08:26:00       0.000000        NaN   \n",
       "25%               2011-04-06 15:02:00       1.250000        NaN   \n",
       "50%               2011-07-31 11:48:00       1.950000        NaN   \n",
       "75%               2011-10-20 13:06:00       3.750000        NaN   \n",
       "max               2011-12-09 12:50:00   38970.000000        NaN   \n",
       "std                               NaN      69.315162        NaN   \n",
       "\n",
       "               Country  \n",
       "count           406829  \n",
       "unique              37  \n",
       "top     United Kingdom  \n",
       "freq            361878  \n",
       "mean               NaN  \n",
       "min                NaN  \n",
       "25%                NaN  \n",
       "50%                NaN  \n",
       "75%                NaN  \n",
       "max                NaN  \n",
       "std                NaN  "
      ]
     },
     "execution_count": 78,
     "metadata": {},
     "output_type": "execute_result"
    }
   ],
   "source": [
    "data.describe(include='all')"
   ]
  },
  {
   "cell_type": "markdown",
   "metadata": {},
   "source": [
    "\n",
    "We will collect the products purchased by each customer (identified by CustomerID). Our goal is to build a model that understands why customers buy certain products together. Once the model is trained, it can recommend products to future customers based on what it has learned about customer behavior. To do this, we will randomly select 90% of the customers for training and 10% for testing.\n",
    "\n",
    "Both the training and testing data will be in the form of lists of lists, like this: [[a1, a2], [b1, b2, b3], ...], where a1 and a2 are StockCode in the data (or products) bought by one customer, and b1, b2, and b3 are products bought by another customer, and so on.\n",
    "\n",
    "In our model, we treat a1, a2, b1, b2, b3, etc., as words, and [a1, a2], [b1, b2, b3] as sentences. In language, the meaning of individual words can be unclear, but sentences give more context and clarity. Similarly, it is difficult to understand a customer's behavior from a single product, but by looking at a list of products they bought together, we get a clearer picture of their preferences. Therefore, we use word embedding to convert each StockCode (product) into vectors. We again use the popular pre-trained embedding model, **Word2Vec**, for our task. "
   ]
  },
  {
   "cell_type": "code",
   "execution_count": null,
   "metadata": {},
   "outputs": [],
   "source": [
    "import pandas as pd\n",
    "import random\n",
    "from gensim.models import Word2Vec\n",
    "\n",
    "# Load the dataset with correct data types\n",
    "file_path = base_url + \"/data/retail.csv\"\n",
    "data = pd.read_csv(file_path, dtype={'CustomerID': str}, parse_dates=['InvoiceDate'])\n",
    "\n",
    "# Shuffle customers and split into training and testing sets\n",
    "customers = data.CustomerID.unique().tolist()\n",
    "random.shuffle(customers)\n",
    "split_point = round(0.9 * len(customers))\n",
    "customers_train = customers[:split_point]\n",
    "customers_test = customers[split_point:]\n",
    "\n",
    "# List to capture purchase history of the customers\n",
    "train_data = []\n",
    "longest = 0\n",
    "\n",
    "# Populate the list with the product codes for training data\n",
    "for customer in customers_train:\n",
    "    purchase_history = data[data[\"CustomerID\"] == customer][\"StockCode\"].tolist()\n",
    "    if len(purchase_history) > longest:\n",
    "        longest = len(purchase_history)\n",
    "    train_data.append(purchase_history)\n",
    "\n",
    "# Train Word2Vec model\n",
    "model = Word2Vec(sentences=train_data, \n",
    "                 vector_size=100, \n",
    "                 window=longest, \n",
    "                 min_count=1, \n",
    "                 workers=4)"
   ]
  },
  {
   "cell_type": "markdown",
   "metadata": {},
   "source": [
    "After the model is trained, here's an example showing how one of the products is converted into a vector:"
   ]
  },
  {
   "cell_type": "code",
   "execution_count": 89,
   "metadata": {},
   "outputs": [
    {
     "name": "stdout",
     "output_type": "stream",
     "text": [
      "StockCode: 21506, Description: fancy font birthday card, \n",
      "[-2.0500734   1.0486172   1.3093923  -1.3016508   6.065899   -2.291378\n",
      "  1.625014    0.9822313  -1.4804991   2.3123453   4.5394635  -0.3166731\n",
      "  1.9122493  -0.40571445  2.5464752   0.50067955  1.4677818  -0.40851653\n",
      "  0.11472506 -1.5560524   2.332762   -1.6304573  -3.975914   -0.08979146\n",
      "  0.9976462   1.557895    1.6055717  -4.407984   -0.31686464  1.5440747\n",
      " -2.906915   -1.0046779   3.1040351   0.88720477 -1.5394729  -0.8074166\n",
      " -4.079725    0.16955534 -0.01583755 -1.7557445  -1.0197153   1.8602298\n",
      " -0.0090165  -0.29118708  0.75320345 -1.5049409   3.26076    -0.73739696\n",
      "  0.4466099  -0.15214975  0.96058583  1.5366901   0.02684127 -0.8573799\n",
      "  0.46368486  1.3442484  -0.34360936 -1.894092    3.6738908   0.3427885\n",
      " -0.4298368   0.5521264   1.630709   -2.15073    -0.18831438 -3.8535957\n",
      "  3.041407    1.6407119  -1.6451669  -0.72795296 -3.4875154  -0.14118685\n",
      "  0.682361   -0.48886672  2.0331926  -1.2859696   2.0761204  -4.4447527\n",
      " -3.6754174  -1.9851053   0.8289878   0.61798036  2.1080215   1.0477064\n",
      "  2.6741323  -1.321872    3.538619    3.4425843   0.7565658   3.9086444\n",
      "  1.5500315   1.864594   -0.9064445  -3.9561682   1.4227905   5.174811\n",
      "  2.102107    0.36084726  3.6684291  -0.29732457]\n"
     ]
    }
   ],
   "source": [
    "product = '21506'\n",
    "description = data[data['StockCode'] == product]['Description'].values[0]\n",
    "print(f\"StockCode: {product}, Description: {description}\")\n",
    "print(model.wv.get_vector(product))"
   ]
  },
  {
   "cell_type": "markdown",
   "metadata": {},
   "source": [
    "The example example shows a set of similar products suggested by our model, along with their StockCode, Description, and Similarity score:"
   ]
  },
  {
   "cell_type": "code",
   "execution_count": 90,
   "metadata": {},
   "outputs": [
    {
     "name": "stdout",
     "output_type": "stream",
     "text": [
      "Products similar to 21506 (Description: fancy font birthday card, ):\n",
      "StockCode: 22030, Description: swallows greeting card, Similarity: 0.93\n",
      "StockCode: 22037, Description: robot birthday card, Similarity: 0.88\n",
      "StockCode: 22983, Description: card billboard font, Similarity: 0.87\n",
      "StockCode: 22026, Description: banquet birthday  card  , Similarity: 0.84\n",
      "StockCode: 22718, Description: card cat and tree , Similarity: 0.82\n",
      "StockCode: 22047, Description: empire gift wrap, Similarity: 0.80\n",
      "StockCode: 22029, Description: spaceboy birthday card, Similarity: 0.79\n",
      "StockCode: 21497, Description: fancy fonts birthday wrap, Similarity: 0.79\n",
      "StockCode: 22027, Description: tea party birthday card, Similarity: 0.78\n",
      "StockCode: 22815, Description: card psychedelic apples, Similarity: 0.77\n"
     ]
    }
   ],
   "source": [
    "example_product = '21506'\n",
    "similar_products = model.wv.most_similar(example_product)\n",
    "print(f\"Products similar to {example_product} (Description: {data[data['StockCode'] == example_product]['Description'].values[0]}):\")\n",
    "for product, similarity in similar_products:\n",
    "    description = data[data['StockCode'] == product]['Description'].values[0]\n",
    "    print(f\"StockCode: {product}, Description: {description}, Similarity: {similarity:.2f}\")"
   ]
  },
  {
   "cell_type": "markdown",
   "metadata": {},
   "source": [
    "Since the target product is a birthday card, the model finds that greeting cards have the highest similarity. This is quite amazing, considering that the training data we fed into the model is simply the StockCode, which to us (humans) has no inherent meaning. The model learns the relationships between products purely through the sets of StockCodes that are purchased together.\n",
    "\n",
    "With this embedding model, we can build a recommendation system. For a basic example, we can predict the next purchase based on a given purchase history. The example shows that for a customer in the testing data, we use his/herIt is certainly debatable if this is the best logic to use for recommendations. It is also worth noting that this model is probably too simplistic to be deployed in a real-world scenario. Nevertheless, this example effectively demonstrates the application of embeddings, and many recommendation systems in real businesses are indeed built using embedding methods. first purchase to predict a future purchase, and this predicted purchase is indeed among the items the customer bought."
   ]
  },
  {
   "cell_type": "code",
   "execution_count": 122,
   "metadata": {},
   "outputs": [
    {
     "name": "stdout",
     "output_type": "stream",
     "text": [
      "For customerID = 13261\n",
      "The first purchased product is StockCode=48129 (Description: doormat topiary)\n",
      "Predicted product is StockCode=48188 (Description: doormat welcome puppies)\n",
      "Was the predicted product actually purchased by the customer? Yes\n"
     ]
    }
   ],
   "source": [
    "# Example: Predicting products for a given purchase history\n",
    "def predict_next_purchase(purchase_history):\n",
    "    # Use the model to predict the next likely product, excluding the product itself\n",
    "    vector = model.wv[purchase_history]\n",
    "    similar_products = model.wv.most_similar(positive=vector, topn=10)\n",
    "    for product, similarity in similar_products:\n",
    "        if product not in purchase_history:\n",
    "            return product\n",
    "    return None \n",
    "\n",
    "# Predicting the next product for the first customer in the test set\n",
    "test_customer_index = 1\n",
    "first_product = test_data[test_customer_index][0]\n",
    "first_description = data[data['StockCode']==first_product]['Description'].values[0]\n",
    "first_test_customer_history = test_data[test_customer_index]\n",
    "predicted_product = predict_next_purchase(first_product)\n",
    "\n",
    "# Show the product description for the predicted product\n",
    "predicted_description = data[data['StockCode'] == predicted_product]['Description'].values[0]\n",
    "\n",
    "# Check if the predicted product was actually purchased by the customer\n",
    "actual_purchase = predicted_product in first_test_customer_history\n",
    "\n",
    "print(f\"For customerID = {customers_test[test_customer_index]}\")\n",
    "print(f\"The first purchased product is StockCode={first_product} (Description: {first_description})\")\n",
    "print(f\"Predicted product is StockCode={predicted_product} (Description: {predicted_description})\")\n",
    "print(f\"Was the predicted product actually purchased by the customer? {'Yes' if actual_purchase else 'No'}\")"
   ]
  },
  {
   "cell_type": "markdown",
   "metadata": {},
   "source": [
    "It is certainly debatable if this is the best logic to use for recommendations. It is also worth noting that this model is probably too simplistic to be deployed in a real-world scenario, especially considering that we only trained the model for about 10 minutes. Nevertheless, this example effectively demonstrates the application of embeddings, and many recommendation systems in real businesses are indeed built using embedding methods."
   ]
  },
  {
   "cell_type": "code",
   "execution_count": 125,
   "metadata": {},
   "outputs": [
    {
     "name": "stdout",
     "output_type": "stream",
     "text": [
      "Prediction accuracy: 0.24\n"
     ]
    }
   ],
   "source": [
    "#| echo: false\n",
    "#| output: false\n",
    "\n",
    "correct_predictions = 0\n",
    "total_predictions = 0\n",
    "\n",
    "for i, customer_history in enumerate(test_data):\n",
    "    if len(customer_history) > 1:  # Ensure there's enough data to predict\n",
    "        first_product = customer_history[0]\n",
    "        remaining_products = customer_history[1:]\n",
    "        predicted_product = predict_next_purchase([first_product])  # Predict based on the first product\n",
    "        if predicted_product in remaining_products:  # Check if the predicted product is in the remaining products\n",
    "            correct_predictions += 1\n",
    "        total_predictions += 1\n",
    "\n",
    "# Calculate prediction accuracy\n",
    "prediction_accuracy = correct_predictions / total_predictions if total_predictions > 0 else 0\n",
    "\n",
    "print(f\"Prediction accuracy: {prediction_accuracy:.2f}\")"
   ]
  }
 ],
 "metadata": {
  "kernelspec": {
   "display_name": "Python 3 (ipykernel)",
   "language": "python",
   "name": "python3"
  },
  "language_info": {
   "codemirror_mode": {
    "name": "ipython",
    "version": 3
   },
   "file_extension": ".py",
   "mimetype": "text/x-python",
   "name": "python",
   "nbconvert_exporter": "python",
   "pygments_lexer": "ipython3",
   "version": "3.11.9"
  },
  "toc": {
   "base_numbering": 1,
   "nav_menu": {},
   "number_sections": true,
   "sideBar": true,
   "skip_h1_title": false,
   "title_cell": "Table of Contents",
   "title_sidebar": "Contents",
   "toc_cell": false,
   "toc_position": {
    "height": "calc(100% - 180px)",
    "left": "10px",
    "top": "150px",
    "width": "240px"
   },
   "toc_section_display": true,
   "toc_window_display": true
  }
 },
 "nbformat": 4,
 "nbformat_minor": 4
}
