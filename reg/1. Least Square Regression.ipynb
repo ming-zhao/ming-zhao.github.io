{
 "cells": [
  {
   "cell_type": "code",
   "execution_count": 1,
   "metadata": {},
   "outputs": [
    {
     "data": {
      "text/html": [
       "<script>\r\n",
       "var password = \"123\";\r\n",
       "is_sphnix = 0;\r\n",
       "is_jupyterNotebook = 1;\r\n",
       "is_jupyterLab = 0;\r\n",
       "\r\n",
       "function code_toggle(e) {\r\n",
       "  var target = e;\r\n",
       "  if (is_jupyterNotebook == 1) {\r\n",
       "      while (!target.closest(\".output_wrapper\").previousElementSibling.classList.contains(\"input\")) {\r\n",
       "        target = target.closest(\".output_wrapper\").previousElementSibling;\r\n",
       "      }\r\n",
       "      target = target.closest(\".output_wrapper\").previousElementSibling;\r\n",
       "      if (target.getAttribute(\"style\") == \"\" || target.getAttribute(\"style\") == null) {\r\n",
       "        target.style.display = \"none\";\r\n",
       "        e.innerHTML = 'show code';\r\n",
       "      }\r\n",
       "      else {\r\n",
       "        target.style.removeProperty(\"display\");\r\n",
       "        e.innerHTML = 'hide code';\r\n",
       "      }\r\n",
       "  }\r\n",
       "}\r\n",
       "\r\n",
       "function hide_comment(e) {\r\n",
       "  if (is_jupyterNotebook == 1) {\r\n",
       "      var target = e;\r\n",
       "      while ((target = target.parentElement) && !target.classList.contains(\"text_cell\"));\r\n",
       "      do {\r\n",
       "          target = target.nextElementSibling;\r\n",
       "          if (target.getAttribute(\"style\") == \"\" || target.getAttribute(\"style\") == null) {\r\n",
       "            target.style.display = \"none\";\r\n",
       "            e.innerHTML = 'show comment';\r\n",
       "          }\r\n",
       "          else {\r\n",
       "            target.style.removeProperty(\"display\");\r\n",
       "            e.innerHTML = 'hide comment';\r\n",
       "          }        \r\n",
       "      } while (target.innerHTML.indexOf(\"blacksquare\") == -1)\r\n",
       "  }\r\n",
       "}\r\n",
       "\r\n",
       "$(document).ready(function() {\r\n",
       "$.ajax({\r\n",
       "  type: \"GET\",  \r\n",
       "  url: \"https://raw.githubusercontent.com/ming-zhao/ming-zhao.github.io/master/data/bzan.csv\",\r\n",
       "  dataType: \"text\",       \r\n",
       "  success: function(data)  \r\n",
       "  {\r\n",
       "      is_sphnix = 0;\r\n",
       "      is_jupyterNotebook = 1;\r\n",
       "      is_jupyterLab = 0;\r\n",
       "      is_debug = 0;\r\n",
       "      \r\n",
       "      if (is_jupyterNotebook == 1) {\r\n",
       "          var code_blocks = document.getElementsByClassName('input');\r\n",
       "          for (var i = 0, len = code_blocks.length; i < len; ++i) {\r\n",
       "            if (\r\n",
       "                code_blocks[i].innerHTML.indexOf(\"toggle\") !== -1 \r\n",
       "                || code_blocks[i].innerHTML.indexOf(\"button onclick\") !== -1\r\n",
       "                || code_blocks[i].innerHTML.indexOf(\"# Hide this cell\") !== -1 \r\n",
       "               ) {\r\n",
       "              if (is_debug == 0) {\r\n",
       "                  code_blocks[i].style.display = \"none\";\r\n",
       "                  if (code_blocks[i].nextElementSibling.getElementsByTagName(\"a\").length>0)\r\n",
       "                    code_blocks[i].nextElementSibling.getElementsByTagName(\"a\")[0].innerHTML = 'show code';\r\n",
       "              }\r\n",
       "              else {\r\n",
       "                  code_blocks[i].style.removeProperty(\"display\");\r\n",
       "                  if (code_blocks[i].nextElementSibling.getElementsByTagName(\"a\").length>0)\r\n",
       "                    code_blocks[i].nextElementSibling.getElementsByTagName(\"a\")[0].innerHTML = 'hide code';\r\n",
       "              }\r\n",
       "            }\r\n",
       "          }\r\n",
       "          \r\n",
       "          var text_blocks = document.getElementsByClassName('text_cell');\r\n",
       "          var comment = 0;\r\n",
       "          for (var i = 0, len = text_blocks.length; i < len; ++i) {\r\n",
       "              if (comment == 1) {\r\n",
       "                  text_blocks[i].style.display = \"none\";\r\n",
       "              }\r\n",
       "              \r\n",
       "              if (text_blocks[i].innerHTML.indexOf(\"show comment\") != -1) {\r\n",
       "                  var links = text_blocks[i].getElementsByTagName('a');\r\n",
       "                  var j;\r\n",
       "                  for (j = 0, len_a = links.length; j < len_a; j++) {\r\n",
       "                      if (links[j].innerHTML.indexOf(\"show comment\") != -1) {\r\n",
       "                          comment = 1; \r\n",
       "                          break;\r\n",
       "                      }\r\n",
       "                  }\r\n",
       "                  links[j].onclick = function() { hide_comment(this); return false;};\r\n",
       "              }\r\n",
       "\r\n",
       "              if (text_blocks[i].innerHTML.indexOf(\"blacksquare\") != -1) {\r\n",
       "                  comment = 0;\r\n",
       "              }\r\n",
       "          }\r\n",
       "      }\r\n",
       "  }\r\n",
       "});\r\n",
       "});    \r\n",
       "</script>"
      ]
     },
     "metadata": {},
     "output_type": "display_data"
    }
   ],
   "source": [
    "library(IRdisplay)\n",
    "display_html(file = \"script.html\")\n",
    "datapath = 'https://raw.githubusercontent.com/ming-zhao/ming-zhao.github.io/master/data/econometrics/'\n",
    "toggle <- function() {display_html('<a href=\"#\" onclick=\"code_toggle(this); return false;\">show code</a>')}"
   ]
  },
  {
   "cell_type": "code",
   "execution_count": 9,
   "metadata": {},
   "outputs": [],
   "source": [
    "library(car)\n",
    "library(lmtest)\n",
    "library(sandwich)\n",
    "library(kableExtra)\n",
    "library(multiwayvcov)"
   ]
  },
  {
   "cell_type": "markdown",
   "metadata": {},
   "source": [
    "# Least Square Regression"
   ]
  },
  {
   "cell_type": "markdown",
   "metadata": {},
   "source": [
    "We have a set of observations $(y_i, \\mathbf{x}_i)$, $i \\in N = 1, \\ldots, n$, where $\\mathbf{x}_i = (x_{i1} = 1, x_{i2}, \\ldots, x_{ik})^\\top$.\n",
    "\n",
    "<div class=\"alert alert-block alert-success\">\n",
    "<b>Note:</b> We include the constant term into $\\mathbf{x}$ to simplify the notation of linear regression model. There are $n$ observations and each observation has $k-1$ variables.\n",
    "</div>\n",
    "\n",
    "The least square regression fits the observations into a linear equation\n",
    "\\begin{align*}\n",
    "\\\\\n",
    "y = b^\\top \\mathbf{x} = b_1 + b_2 x_2 + \\ldots + b_k x_{k}\n",
    "\\end{align*}\n",
    "\n",
    "The parameter $b$ is identified by minimizing the sum of squares of\n",
    "\\begin{align}\n",
    "\\\\\n",
    "\\min_{b} \\sum_{i \\in N} e_i^2 = e^\\top e \\label{ols} \\tag{OLS}\n",
    "\\end{align}\n",
    "\n",
    "where the residuals $e_i = y_i - \\hat{y}_i = y_i - b^\\top \\mathbf{x}_{i}$, $\\forall i \\in N$.\n",
    "\n",
    "The minimization problem \\eqref{ols} gives the solution\n",
    "\\begin{align}\n",
    "b & = (X^\\intercal X)^{-1} X^\\intercal \\mathbf{y} \\label{normal_eq} \\tag{Normal Equation}\n",
    "\\end{align}\n",
    "\n",
    "where $X = (\\mathbf{x}_1, \\ldots, \\mathbf{x}_n)$ (the $i$th row of $X$ is the observation $\\mathbf{x}_i^\\top$) and $\\mathbf{y} = (y_1,\\ldots,y_n)^\\top$."
   ]
  },
  {
   "cell_type": "markdown",
   "metadata": {},
   "source": [
    "## Geometric Explanation\n",
    "\n",
    "The fitted value $\\hat{\\mathbf{y}} = Xb$ lies in the space represented by the columns of $X$. So, the least square regression projects $\\mathbf{y}$ into the column space of $X$.\n",
    "\n",
    "\\begin{align*}\n",
    "\\\\\n",
    "\\mathbf{e} = \\mathbf{y} - Xb = \\mathbf{y} - X(X^\\intercal X)^{-1} X^\\intercal \\mathbf{y} = (I - X(X^\\intercal X)^{-1} X^\\intercal) \\mathbf{y} \\equiv M \\mathbf{y}\n",
    "\\end{align*}\n",
    "\n",
    "where $M$ is a symmetric and idempotent $(M^2 = M)$ residual maker matrix. Hence,\n",
    "\n",
    "\\begin{align*}\n",
    "\\\\\n",
    "\\hat{\\mathbf{y}} = \\mathbf{y} - \\mathbf{e} = (I- M) \\mathbf{y} = X(X^\\intercal X)^{-1} X^\\intercal \\mathbf{y} \\equiv P \\mathbf{y}\n",
    "\\end{align*}\n",
    "\n",
    "where $P$ is a symmetric and idempotent projection matrix. $P$ and $M$ are orthogonal $(PM = MP = 0)$."
   ]
  },
  {
   "cell_type": "markdown",
   "metadata": {},
   "source": [
    "## Model Assumptions\n",
    "\n",
    "The assumptions of the classical linear regression model are:\n",
    "\n",
    "1. Linearity: the population satisfy the linear relationship $y = \\beta^\\top \\mathbf{x} + \\epsilon$;\n",
    "2. $X$ has full rank;\n",
    "3. Exogeneity: E$[\\epsilon_i|X] = 0$;\n",
    "4. Homoskedasticity: Var$[\\epsilon_i|X] = \\sigma^2$ and Cov$(\\epsilon_i,\\epsilon_j | X) = 0$ for $i \\ne j$;\n",
    "5. Noramlity (optional): $\\epsilon \\sim N(0, \\sigma^2 I)$.\n",
    "\n",
    "\n",
    "### Linearity\n",
    "\n",
    "The mechanism (or distribution) that descripes the population $(y, \\mathbf{x})$ is unknown. When we decide to fit the observations into a linear equation, we already assume that the population $(y, \\mathbf{x})$ satifies a linear relationship $y = \\beta^\\intercal \\mathbf{x} + \\epsilon$ where $\\epsilon$ is the error term that disturbs an otherwise stable relationship. It arises because we cannot hope to capture every influence on an economic variable in a model, no matter how elaborate.\n",
    "\n",
    "This linearity assumption is not so limited for two reasons: \n",
    "\n",
    "1. We can always take nonlinear transforms on the data before fitting the linear equation; \n",
    "2. Linear function is always a good approximation for nonlinearity locally.\n",
    "\n",
    "With the linearity assumption, the paramter $b$ can be obtained by minimizing the residuals $e_i = y_i - \\hat{y}_i$ $\\forall i \\in N$. Hence, our interest is the response with given $\\mathbf{x}$, which is characterized by the distribution $f(y|\\mathbf{x})$. In particular, we are interested in the conditional mean function E$(y|\\mathbf{x}) = \\beta \\mathbf{x}$.\n",
    "\n",
    "<div class=\"alert alert-block alert-success\">\n",
    "<b>Note:</b> We may be interested in the conditional median (or percentile) function if the distributiono of response is skewed.\n",
    "</div>\n",
    "\n",
    "In the model, the independent variables are outside the relationships defined by the model while movement of the dependent\n",
    "variable (response) is considered in response to some independent or exogenous stimulus."
   ]
  },
  {
   "cell_type": "markdown",
   "metadata": {},
   "source": [
    "### Least Squares\n",
    "\n",
    "The parameter $\\beta$ can be estimated in several approaches. For example, the least square estimator solves \n",
    "\\begin{align*}\n",
    "\\\\\n",
    "\\min_{b} e^\\intercal W e\n",
    "\\end{align*}\n",
    "\n",
    "where\n",
    "- $W = I$ for ordinary least square (OLS)\n",
    "- $W$ is a diagonal matrix for Weighted least squares\n",
    "- $W$ is the conditional variance of the error term given $\\mathbf{x}$ for generalized least squares\n",
    "\n",
    "Least absolute deviations (LAD) is an alternative to least squares and solves\n",
    "\\begin{align*}\n",
    "\\\\\n",
    "\\min_{b} \\sum_{i \\in N} |e_i|\n",
    "\\end{align*}\n",
    "\n",
    "Note that\n",
    "\n",
    "- Generalized (weighted) least squares is a generalization on OLS for heteroscedasticity.\n",
    "- LAD estimator is often found robust in samll sample size and samples with the more likely outlying values in response $y$.\n",
    "\n",
    "The OLS estimator gives the minimum mean squared error (MSE) linear predictor where\n",
    "\\begin{align*}\n",
    "\\\\\n",
    "\\text{MSE} \n",
    "& = \\text{E}(y - \\gamma^\\top \\mathbf{x})^2\n",
    "\\end{align*}"
   ]
  },
  {
   "cell_type": "markdown",
   "metadata": {},
   "source": [
    "### Sampling Properties\n",
    "\n",
    "Because the estimation is based on a random sample, $b$ is a random variable. Before conducting any estimator procedure, we expect certain properties of $b$:\n",
    "\n",
    "- Unbiasedness: E$(b|X) = \\beta$.\n",
    "- Consistency: $\\text{plim}_{n \\to \\infty} b = \\beta$, where `plim` is convergence in probability that $\\lim_{n \\to \\infty} \\text{Prob}(|b-\\beta| > \\delta) = 0$ for any positive $\\delta$.\n",
    "- Efficiency: $b$ has the minimal variance among a set of consistent estimators.\n",
    "\n",
    "The estimation procedure is to obtain ONE $b$ from ONE random sample. If we can perform the procedure many times with a different sample each time, we expect that the average of all estimated $b$ is $\\beta$, i.e., unbiasedness. The expectation of unbiasedness is logically reasonable, but impractical for two reasons:\n",
    "\n",
    "- If we could perform the procedure many times, we would rather to use all samples as one large sample so that the estimator has less variance.\n",
    "- Unbiasedness is probably important for interpreting $\\beta$ but not for prediction models because Var$(b|X)$ may be large. In fact, unbiased estimator usually has large variance due to the bias-variance trade off.\n",
    "\n",
    "We expect that the estimator $b$ is getting close to the true parameter $\\beta$ as the sample size $n$ increases. This property is more important than the unbiasedness because it requires the reduction in variance as sample size $n$ increases.\n",
    "\n",
    "The consistency validates the evaluation process for the estimator since information (data size) improves accuracy. However, it does not suggest an estimator with a given sample size, if consistency is satisfied by multiple estimators (for example, OLS vs LAD estimators).\n",
    "\n",
    "Gauss–Markov theorem establishes finite sample conditions under which the OLS estimator is optimal and states that \n",
    "\n",
    "> The least squares estimator $b$ has the minimum variance among all **linear unbiased** estimator. \n",
    "\n",
    "The proof of the theorem requires all assumptions except the normality.\n",
    "\n",
    "The finite sample properties requires the normality assumption (because central limit theory cannot be applied). The unbiasedness does not appreciate the value of information. So, we need to introduce asymptotic properties based on large sample (`plim` with $n \\to \\infty$), which require fewer assumptions."
   ]
  },
  {
   "cell_type": "markdown",
   "metadata": {},
   "source": [
    "### Data Generation\n",
    "\n",
    "The full rank assumption ensures the existance of the inverse $X^{-1}$.\n",
    "\n",
    "$X$ can be any mixture of constants and random variables. If $X$ is not random, model assumptions become unconditional. Nothing is lost by assuming that the $n$ observations in hand are a random sample of independent, identically distributed (i.i.d.) draws from a joint distribution of $(y,\\mathbf{x})$. In some treatments, such as panel data, some observations will be correlated by construction. It will be necessary to revisit the assumption of Homoskedasticity."
   ]
  },
  {
   "cell_type": "markdown",
   "metadata": {},
   "source": [
    "### Exogeneity\n",
    "\n",
    "Exogeneity $\\text{E}(\\epsilon|X) = 0$ and **unbiasedness**:\n",
    "\\begin{align*}\n",
    "\\text{E}(b|X) &= (X^\\intercal X)^{-1} X^\\intercal \\text{E}(\\mathbf{y}|X)  \\\\\n",
    "& = (X^\\intercal X)^{-1} X^\\intercal (X \\beta + \\text{E}(\\epsilon|X)) \\\\\n",
    "& = \\beta + (X^\\intercal X)^{-1} X^\\intercal \\text{E}(\\epsilon|X) = \\beta.\n",
    "\\end{align*}\n",
    "\n",
    "Note that \n",
    "\n",
    "- $\\text{E}(\\epsilon|X) = 0 \\Rightarrow \\text{E}(\\epsilon) = 0 \\text{ and } \\text{Cov}(\\epsilon, X) = 0$, but\n",
    "- $\\text{E}(\\epsilon) = 0 \\text{ and } \\text{Cov}(\\epsilon X) = 0 \\nRightarrow \\text{E}(\\epsilon|X) = 0$. For example, consider $(\\epsilon, x) = (-1, 1) \\text{ or } (1, -1)$ with 50% chance. We have $\\text{E}(\\epsilon|x) = -x \\neq 0$.\n",
    "- $\\text{E}(\\epsilon|X) = 0 \\Rightarrow \\text{E}(\\epsilon X) = \\text{Cov}(\\epsilon, X) + \\text{E}(\\epsilon)\\text{E}(X) = 0$\n",
    "\n",
    "The condition $\\text{E}(\\epsilon) = 0$ can be assumed without loss of generality because we can always scale the response $y$.\n",
    "\n",
    "$\\text{E}(\\epsilon X) = 0$ and **consistency**:\n",
    "\n",
    "We define $\\text{E}(\\mathbf{x}_i \\mathbf{x}^\\top_i) = Q$. The law of large number suggests \n",
    "\n",
    "\\begin{align}\n",
    "\\nonumber \\\\\n",
    "\\text{plim} \\frac{X^\\top X}{n} = \\text{plim} \\frac{1}{n} \\sum_{i} \\mathbf{x}_i \\mathbf{x}^\\top_i = \\text{E} \\text{E}(\\mathbf{x}_i \\mathbf{x}^\\top_i) = Q \\nonumber\n",
    "\\end{align}\n",
    "\n",
    "$Q$ is positive definite since $X$ is full-dimensional. Then,\n",
    "\n",
    "\\begin{align}\n",
    "\\nonumber \\\\\n",
    "\\text{plim}\\ b & = \\text{plim}\\ (X^\\top X)^{-1} X^\\top \\mathbf{y} \\nonumber \\\\\n",
    "& = \\beta + \\text{plim}\\ (X^\\top X)^{-1} X^\\intercal \\epsilon  \\nonumber \\\\\n",
    "& = \\beta + \\text{plim}\\ \\left( \\frac{X^\\top X}{n} \\right)^{-1} \\left( \\frac{X^\\top \\epsilon}{n} \\right) \\nonumber \\\\\n",
    "& = \\beta + Q^{-1} \\text{plim}\\left( \\frac{X^\\top \\epsilon}{n} \\right) = \\beta \\nonumber\n",
    "\\end{align}\n",
    "\n",
    "The last equation holds because\n",
    "\n",
    "\\begin{align}\n",
    "\\text{plim} \\frac{X^\\top \\epsilon}{n}  = \\frac{1}{n}\\sum_{i} \\epsilon_i \\mathbf{x}_i = \\text{E}(\\epsilon X) = 0. \\nonumber\n",
    "\\end{align}"
   ]
  },
  {
   "cell_type": "markdown",
   "metadata": {},
   "source": [
    "### Homoskedasticity\n",
    "\n",
    "The homoskedasticity assumption implies $\\text{E}(\\epsilon \\epsilon^\\top|X) = \\text{Var}(\\epsilon|X) = \\sigma^2 I$. Since $b = (X^\\top X)^{-1} X^\\top \\mathbf{y} = (X^\\top X)^{-1} X^\\top (X \\beta + \\epsilon) = \\beta + A \\epsilon$ with $A = (X^\\top X)^{-1} X^\\top$.\n",
    "\n",
    "The conditional covariance matrix of $b$ is\n",
    "\n",
    "\\begin{align*}\n",
    "\\text{Var}(b|X) \n",
    "&= \\text{E}\\big((b-\\beta)(b-\\beta)^\\top|X\\big) \\\\\n",
    "&= \\text{E}(A\\epsilon \\epsilon^\\top A^\\top|X) \\\\\n",
    "&= A\\text{E}(\\epsilon \\epsilon^\\top|X)A^\\top \\\\\n",
    "&= \\sigma^2(X^\\top X)^{-1}\n",
    "\\end{align*}\n",
    "\n",
    "Since $\\sigma^2$ is unknown, an unbiased estimator of $\\sigma^2$ is $s^2 = e^\\intercal e / (n-k)$. Hence, the sample estimate of the sampling variance of $b$ is $\\text{Est. Var}(b|X)=s^2 (X^\\top X)^{-1}$.\n",
    "\n",
    "The asymptotic variance of $b$ \n",
    "\n",
    "\\begin{align*}\n",
    "\\text{Asy. Var}(b) \n",
    "&= \\text{plim } \\sigma^2(X^\\top X)^{-1} \\\\\n",
    "&= \\text{plim } \\frac{\\sigma^2}{n} \\left(\\frac{X^\\top X}{n}\\right)^{-1} \\\\\n",
    "&= \\frac{\\sigma^2}{n} Q^{-1}\n",
    "\\end{align*}\n",
    "\n",
    "Note that both $\\sigma^2$ and $Q$ are unknown. If we have $\\text{plim } s^2 = \\sigma^2$ (see proof in [Greene]), then $\\text{plim } s^2 \\big( X^\\top X /n \\big)^{-1} = \\sigma^2 Q^{-1}$, and hence $\\text{Est. Asy. Var}(b) = s^2(X^\\top X)^{-1}$.\n",
    "\n",
    "Suppose the homoskedasticity assumption is violated. Then, $\\text{E}(\\epsilon \\epsilon^\\top|X) = \\text{Var}(\\epsilon|X) \\neq \\sigma^2 I$. For example, $\\text{E}(\\epsilon \\epsilon^\\top|X) = \\text{diag}(\\sigma^2_i)$ or there are correlation among clusters.\n",
    "\n",
    "\\begin{align*}\n",
    "\\text{Var}(b|X) \n",
    "&= A\\text{E}(\\epsilon \\epsilon^\\top|X)A^\\top \\\\\n",
    "&= (X^\\top X)^{-1} \\text{E}(X^\\top \\epsilon \\epsilon^\\top X|X) (X^\\top X)^{-1} \\\\\n",
    "&= (X^\\top X)^{-1} \\text{E}\\left(\\sum_{i} \\epsilon_i^2 \\mathbf{x}_i \\mathbf{x}_i^\\top \\bigg|X\\right) (X^\\top X)^{-1} \\\\\n",
    "\\text{Asy. Var}(b) \n",
    "&= Q^{-1} Q^* Q^{-1}\n",
    "\\end{align*}\n",
    "\n",
    "for some matrix $Q^*$ which can be estimated based on residuals."
   ]
  },
  {
   "cell_type": "markdown",
   "metadata": {},
   "source": [
    "Table F4.1: Data on Sales of Monet Paintings (430 observations) <br>\n",
    "Source: [Example 4.5 in Greene (2003)](http://pages.stern.nyu.edu/~wgreene/Text/Edition7/tablelist8new.htm)\n",
    "\n",
    "- Price = Sale Price in $ (million),\n",
    "- Height = Height (inches),\n",
    "- Width = Width (inches),\n",
    "- Signed = Dummy variable = 1 if signed, 0 if not,\n",
    "- Picture = ID number (identifies repeat sales),\n",
    "- House = Code for auction house where sale took place.\n",
    "\n",
    "The model is `log(price) ~ log(height*width) + width/height`. As shown in the figure, the error terms for paintings that sold more than once would naturally be correlated. Since heteroskedasticity presents, we provide robust standard errors."
   ]
  },
  {
   "cell_type": "code",
   "execution_count": 3,
   "metadata": {
    "scrolled": false
   },
   "outputs": [
    {
     "data": {
      "text/html": [
       "<a href=\"#\" onclick=\"code_toggle(this); return false;\">show code</a>"
      ]
     },
     "metadata": {},
     "output_type": "display_data"
    },
    {
     "data": {
      "text/html": [
       "<table class=\"table table-striped\" style=\"width: auto !important; margin-left: auto; margin-right: auto;\">\n",
       "<caption>Heteroskedasticity-Consistent Estimation of Covariance Matrix</caption>\n",
       " <thead>\n",
       "  <tr>\n",
       "   <th style=\"text-align:left;\">   </th>\n",
       "   <th style=\"text-align:right;\"> (Intercept) </th>\n",
       "   <th style=\"text-align:right;\"> log(height * width) </th>\n",
       "   <th style=\"text-align:right;\"> I(width/height) </th>\n",
       "  </tr>\n",
       " </thead>\n",
       "<tbody>\n",
       "  <tr>\n",
       "   <td style=\"text-align:left;\"> (Intercept) </td>\n",
       "   <td style=\"text-align:right;\"> 0.5416777 </td>\n",
       "   <td style=\"text-align:right;\"> -0.0748774 </td>\n",
       "   <td style=\"text-align:right;\"> -0.0281418 </td>\n",
       "  </tr>\n",
       "  <tr>\n",
       "   <td style=\"text-align:left;\"> log(height * width) </td>\n",
       "   <td style=\"text-align:right;\"> -0.0748774 </td>\n",
       "   <td style=\"text-align:right;\"> 0.0113106 </td>\n",
       "   <td style=\"text-align:right;\"> -0.0010028 </td>\n",
       "  </tr>\n",
       "  <tr>\n",
       "   <td style=\"text-align:left;\"> I(width/height) </td>\n",
       "   <td style=\"text-align:right;\"> -0.0281418 </td>\n",
       "   <td style=\"text-align:right;\"> -0.0010028 </td>\n",
       "   <td style=\"text-align:right;\"> 0.0281053 </td>\n",
       "  </tr>\n",
       "</tbody>\n",
       "</table>"
      ]
     },
     "metadata": {},
     "output_type": "display_data"
    },
    {
     "data": {
      "text/html": [
       "<table class=\"table table-striped\" style=\"width: auto !important; margin-left: auto; margin-right: auto;\">\n",
       "<caption>Robust Standard Errors</caption>\n",
       " <thead>\n",
       "  <tr>\n",
       "   <th style=\"text-align:left;\">   </th>\n",
       "   <th style=\"text-align:right;\"> Estimate </th>\n",
       "   <th style=\"text-align:right;\"> Std. Error </th>\n",
       "   <th style=\"text-align:right;\"> Heteroscedasticity (Std. Error) </th>\n",
       "   <th style=\"text-align:right;\"> Cluster (Std. Error) </th>\n",
       "  </tr>\n",
       " </thead>\n",
       "<tbody>\n",
       "  <tr>\n",
       "   <td style=\"text-align:left;\"> (Intercept) </td>\n",
       "   <td style=\"text-align:right;\"> -8.3423608 </td>\n",
       "   <td style=\"text-align:right;\"> 0.6782026 </td>\n",
       "   <td style=\"text-align:right;\"> 0.7359876 </td>\n",
       "   <td style=\"text-align:right;\"> 0.7587251 </td>\n",
       "  </tr>\n",
       "  <tr>\n",
       "   <td style=\"text-align:left;\"> log(height * width) </td>\n",
       "   <td style=\"text-align:right;\"> 1.3163837 </td>\n",
       "   <td style=\"text-align:right;\"> 0.0920493 </td>\n",
       "   <td style=\"text-align:right;\"> 0.1063515 </td>\n",
       "   <td style=\"text-align:right;\"> 0.1093243 </td>\n",
       "  </tr>\n",
       "  <tr>\n",
       "   <td style=\"text-align:left;\"> I(width/height) </td>\n",
       "   <td style=\"text-align:right;\"> -0.0962332 </td>\n",
       "   <td style=\"text-align:right;\"> 0.1578398 </td>\n",
       "   <td style=\"text-align:right;\"> 0.1676463 </td>\n",
       "   <td style=\"text-align:right;\"> 0.1777574 </td>\n",
       "  </tr>\n",
       "</tbody>\n",
       "</table>"
      ]
     },
     "metadata": {},
     "output_type": "display_data"
    },
    {
     "data": {
      "image/png": "[encoded data removed]",
      "text/plain": [
       "Plot with title \"Repeat Sales of Monet Paintings\""
      ]
     },
     "metadata": {},
     "output_type": "display_data"
    }
   ],
   "source": [
    "toggle()\n",
    "monet <- read.csv(paste(datapath, 'TableF4-1.csv', sep=''))\n",
    "mdl <- lm(log(price) ~ log(height*width) + I(width/height), data = monet)\n",
    "\n",
    "vcv <- vcovHC(mdl, type = \"HC1\")\n",
    "kable(vcv, caption = \"Heteroskedasticity-Consistent Estimation of Covariance Matrix\") %>%\n",
    "    kable_styling(bootstrap_options=\"striped\", full_width=F) %>%\n",
    "    as.character() %>%\n",
    "    display_html()\n",
    "\n",
    "options(repr.plot.width=10, repr.plot.height=3.5)\n",
    "barplot(table(monet$picture), main=\"Repeat Sales of Monet Paintings\")\n",
    "\n",
    "report <- coef(summary(mdl))[,c('Estimate', 'Std. Error')]\n",
    "# include heteroscedasticity robust std. errors\n",
    "heteroscedasticity <- coeftest(mdl, vcv)[,\"Std. Error\", drop=FALSE]\n",
    "colnames(heteroscedasticity) <- c('Heteroscedasticity (Std. Error)')\n",
    "report <- cbind(report, heteroscedasticity)\n",
    "# include cluster robust std. errors with cluster on monet$picture\n",
    "cluster <- coeftest(mdl, cluster.vcov(mdl, monet$picture))[, c('Std. Error'), drop=FALSE]\n",
    "colnames(cluster) <- c('Cluster (Std. Error)')\n",
    "report <- cbind(report, cluster)\n",
    "kable(report, caption = \"Robust Standard Errors\") %>%\n",
    "    kable_styling(bootstrap_options=\"striped\", full_width=F) %>%\n",
    "    as.character() %>%\n",
    "    display_html()"
   ]
  },
  {
   "cell_type": "markdown",
   "metadata": {},
   "source": [
    "## Model Estimation"
   ]
  },
  {
   "cell_type": "markdown",
   "metadata": {},
   "source": [
    "### Frisch–Waugh–Lovell Theorem\n",
    "\n",
    "Suppose that the regression involves two sets of variables $\\mathbf{x} = (\\mathbf{x}^1, \\mathbf{x}^2)$. For example, $\\mathbf{x}^1$ includes all variables (such as age, gender of individuals) that we want to control, and $\\mathbf{x}^2$ are some key variables that we want to see their effects on the response $y$. Frisch–Waugh–Lovell Theorem suggests that \n",
    "\n",
    "> $b_2$ is partial regression coefficients that partialing out the effect of $\\mathbf{x}^1$\n",
    "\n",
    "because $b_2$ can be derived as follows:\n",
    "\n",
    "1. regress $y$ on $\\mathbf{x}^1$: $y \\sim \\mathbf{x}^1 + e^0$\n",
    "2. regress $\\mathbf{x}^2_j$ on $\\mathbf{x}^1$: $\\mathbf{x}^2_j \\sim \\mathbf{x}^1 + e^j$ $\\forall j = 1, \\ldots J$\n",
    "3. regress $e^0$ on $e^1, \\ldots, e^J$: then $e^0 = b^\\top_2 (e^1 , \\cdots , e^J) + \\tilde{e}$"
   ]
  },
  {
   "cell_type": "markdown",
   "metadata": {},
   "source": [
    "Table F3.1: U.S. Investment Data, 15 Yearly Observations, 2000-2014 <br>\n",
    "Source: [Greene (2003)](http://pages.stern.nyu.edu/~wgreene/Text/Edition7/tablelist8new.htm)\n",
    "\n",
    "- Year = Date,\n",
    "- RealGNP = GNP Quantity Index,\n",
    "- Invest = Nominal Investment in \\$T,\n",
    "- GNPDefl = GNP Deflator,\n",
    "- Interest = Interest rate = Prime rate.\n",
    "- Infl = Yearly change in consumer price index.\n",
    "- Trend = row index\n",
    "- RealInv = Nominal investment/(.01*GNP Deflator)\n",
    "\n",
    "The model is `realinv ~ trend + realgnp + interest + infl`. The example demonstrates Frisch–Waugh–Lovell Theorem and partitioned regression. "
   ]
  },
  {
   "cell_type": "code",
   "execution_count": 4,
   "metadata": {
    "scrolled": false
   },
   "outputs": [
    {
     "data": {
      "text/html": [
       "<a href=\"#\" onclick=\"code_toggle(this); return false;\">show code</a>"
      ]
     },
     "metadata": {},
     "output_type": "display_data"
    },
    {
     "data": {
      "text/html": [
       "<table>\n",
       "<thead><tr><th></th><th scope=col>Estimate</th><th scope=col>Std. Error</th><th scope=col>t value</th><th scope=col>Pr(&gt;|t|)</th></tr></thead>\n",
       "<tbody>\n",
       "\t<tr><th scope=row>(Intercept)</th><td>-6.21967209</td><td>1.93044718 </td><td>-3.2218815 </td><td>0.009145929</td></tr>\n",
       "\t<tr><th scope=row>trend</th><td>-0.16088526</td><td>0.04723546 </td><td>-3.4060269 </td><td>0.006702860</td></tr>\n",
       "\t<tr><th scope=row>realgnp</th><td> 0.09908417</td><td>0.02413202 </td><td> 4.1059206 </td><td>0.002124363</td></tr>\n",
       "\t<tr><th scope=row>interest</th><td> 0.02017157</td><td>0.03369151 </td><td> 0.5987137 </td><td>0.562679619</td></tr>\n",
       "\t<tr><th scope=row>infl</th><td>-0.01165919</td><td>0.03976816 </td><td>-0.2931789 </td><td>0.775379223</td></tr>\n",
       "</tbody>\n",
       "</table>\n"
      ],
      "text/latex": [
       "\\begin{tabular}{r|llll}\n",
       "  & Estimate & Std. Error & t value & Pr(>\\textbar{}t\\textbar{})\\\\\n",
       "\\hline\n",
       "\t(Intercept) & -6.21967209 & 1.93044718  & -3.2218815  & 0.009145929\\\\\n",
       "\ttrend & -0.16088526 & 0.04723546  & -3.4060269  & 0.006702860\\\\\n",
       "\trealgnp &  0.09908417 & 0.02413202  &  4.1059206  & 0.002124363\\\\\n",
       "\tinterest &  0.02017157 & 0.03369151  &  0.5987137  & 0.562679619\\\\\n",
       "\tinfl & -0.01165919 & 0.03976816  & -0.2931789  & 0.775379223\\\\\n",
       "\\end{tabular}\n"
      ],
      "text/markdown": [
       "\n",
       "| <!--/--> | Estimate | Std. Error | t value | Pr(>|t|) |\n",
       "|---|---|---|---|---|\n",
       "| (Intercept) | -6.21967209 | 1.93044718  | -3.2218815  | 0.009145929 |\n",
       "| trend | -0.16088526 | 0.04723546  | -3.4060269  | 0.006702860 |\n",
       "| realgnp |  0.09908417 | 0.02413202  |  4.1059206  | 0.002124363 |\n",
       "| interest |  0.02017157 | 0.03369151  |  0.5987137  | 0.562679619 |\n",
       "| infl | -0.01165919 | 0.03976816  | -0.2931789  | 0.775379223 |\n",
       "\n"
      ],
      "text/plain": [
       "            Estimate    Std. Error t value    Pr(>|t|)   \n",
       "(Intercept) -6.21967209 1.93044718 -3.2218815 0.009145929\n",
       "trend       -0.16088526 0.04723546 -3.4060269 0.006702860\n",
       "realgnp      0.09908417 0.02413202  4.1059206 0.002124363\n",
       "interest     0.02017157 0.03369151  0.5987137 0.562679619\n",
       "infl        -0.01165919 0.03976816 -0.2931789 0.775379223"
      ]
     },
     "metadata": {},
     "output_type": "display_data"
    },
    {
     "name": "stdout",
     "output_type": "stream",
     "text": [
      "coefficient of infl: -0.01165919 \n"
     ]
    },
    {
     "data": {
      "text/html": [
       "<table>\n",
       "<thead><tr><th></th><th scope=col>Estimate</th><th scope=col>Std. Error</th><th scope=col>t value</th><th scope=col>Pr(&gt;|t|)</th></tr></thead>\n",
       "<tbody>\n",
       "\t<tr><th scope=row>(Intercept)</th><td>-1.125102e-17</td><td>0.03231890   </td><td>-3.481250e-16</td><td>1.0000000    </td></tr>\n",
       "\t<tr><th scope=row>resid(mdl2)</th><td>-1.165919e-02</td><td>0.03487898   </td><td>-3.342754e-01</td><td>0.7435031    </td></tr>\n",
       "</tbody>\n",
       "</table>\n"
      ],
      "text/latex": [
       "\\begin{tabular}{r|llll}\n",
       "  & Estimate & Std. Error & t value & Pr(>\\textbar{}t\\textbar{})\\\\\n",
       "\\hline\n",
       "\t(Intercept) & -1.125102e-17 & 0.03231890    & -3.481250e-16 & 1.0000000    \\\\\n",
       "\tresid(mdl2) & -1.165919e-02 & 0.03487898    & -3.342754e-01 & 0.7435031    \\\\\n",
       "\\end{tabular}\n"
      ],
      "text/markdown": [
       "\n",
       "| <!--/--> | Estimate | Std. Error | t value | Pr(>|t|) |\n",
       "|---|---|---|---|---|\n",
       "| (Intercept) | -1.125102e-17 | 0.03231890    | -3.481250e-16 | 1.0000000     |\n",
       "| resid(mdl2) | -1.165919e-02 | 0.03487898    | -3.342754e-01 | 0.7435031     |\n",
       "\n"
      ],
      "text/plain": [
       "            Estimate      Std. Error t value       Pr(>|t|) \n",
       "(Intercept) -1.125102e-17 0.03231890 -3.481250e-16 1.0000000\n",
       "resid(mdl2) -1.165919e-02 0.03487898 -3.342754e-01 0.7435031"
      ]
     },
     "metadata": {},
     "output_type": "display_data"
    },
    {
     "name": "stdout",
     "output_type": "stream",
     "text": [
      "coefficient of infl from Frisch–Waugh–Lovell Theorem:\n",
      " -0.01165919 \n",
      "coefficient of infl from normal equation:\n",
      " -0.01165919 \n"
     ]
    }
   ],
   "source": [
    "toggle()\n",
    "invest <- read.csv(paste(datapath, 'TableF3-1.csv', sep=''))\n",
    "mdl <- lm(realinv ~ trend + realgnp + interest + infl, invest)\n",
    "coef(summary(mdl))\n",
    "cat('coefficient of infl:', as.numeric(mdl$coef['infl']), '\\n')\n",
    "mdl1 <- lm(realinv ~ trend + realgnp + interest, invest)\n",
    "mdl2 <- lm(infl ~ trend + realgnp + interest, invest)\n",
    "mdl3 <- lm(resid(mdl1) ~ resid(mdl2))\n",
    "coef(summary(mdl3))\n",
    "cat('coefficient of infl from Frisch–Waugh–Lovell Theorem:\\n', as.numeric(mdl3$coef[2]), '\\n') \n",
    "cat('coefficient of infl from normal equation:\\n', sum(resid(mdl1)*resid(mdl2))/sum(resid(mdl2)*resid(mdl2)), '\\n')"
   ]
  },
  {
   "cell_type": "markdown",
   "metadata": {},
   "source": [
    "### Omitted Variable Bias\n",
    "\n",
    "Suppose that \n",
    "\n",
    "- the correct regression model is $y = \\beta \\mathbf{x} + \\gamma z + \\epsilon$, but \n",
    "- the performed regression model is $y = \\beta \\mathbf{x} + \\epsilon$.\n",
    "\n",
    "So, we regress $y$ on $\\mathbf{x}$ without including the relevant variable, $z$, then the estimator is\n",
    "\n",
    "\\begin{align*}\n",
    "\\text{E}(b^\\prime|X) & = (X^\\top X)^{-1} X^\\top \\text{E}(\\mathbf{y}|X) \\\\\n",
    "& = (X^\\top X)^{-1} X^\\top (\\beta X + \\mathbf{z} \\gamma) \\\\\n",
    "& = \\beta + (X^\\top X)^{-1} X^\\top \\mathbf{z} \\gamma\n",
    "\\end{align*}\n",
    "\n",
    "where $\\mathbf{z} = \\{z_1,\\ldots,z_n\\}$. The estimator $b^\\prime$ is biased unless $X^\\top \\mathbf{z} = 0$. The variance is $\\text{Var}(b^\\prime|X) = \\sigma^2 (X^\\intercal X)^{-1}$. Note that this variance is around $\\text{E}(b^\\prime|X)$, not $\\beta$. If we regress $y$ on $\\mathbf{x}, z$ and use the correct regression model, the variance of $b_{X,\\mathbf{z}}$ is\n",
    "\n",
    "\\begin{align*}\n",
    "\\text{Var}(b_{X,\\mathbf{z}} | X, \\mathbf{z}) = \\sigma^2\\left( X^\\top X - X^\\top \\mathbf{z} (\\mathbf{z}^\\intercal \\mathbf{z})^{-1}\\mathbf{z}^\\top X \\right)^{-1}\n",
    "\\end{align*}\n",
    "\n",
    "Hence,\n",
    "\\begin{align*}\n",
    "\\big(\\text{Var}(b^\\prime|X)\\big)^{-1} - \\big(\\text{Var}(b_{X,\\mathbf{z}} | X, \\mathbf{z})\\big)^{-1} = \\frac{1}{\\sigma^2} X^\\top \\mathbf{z} (\\mathbf{z}^\\top \\mathbf{z})^{-1}\\mathbf{z}^\\top X \\succeq 0\n",
    "\\end{align*}\n",
    "\n",
    "Although $b^\\prime$ is biased, its variance is never larger than the variance of the unbiased estimator.\n",
    "\n",
    "However, suppose that\n",
    "\n",
    "- the correct regression model is $y = \\beta \\mathbf{x} + \\epsilon$, but \n",
    "- the performed regression model is $y = \\beta \\mathbf{x} + \\gamma z + \\epsilon$.\n",
    "\n",
    "We have $\\text{E}(b^{\\prime \\prime}|X) = \\text{E}\\big((b_x, b_z)|X\\big) = (\\beta, \\gamma)$. So, including irrelevant variables in the estimation equation does not lead to bias in the estimation. \n",
    "\n",
    "The cost of including irrelevant variables is larger variances (less precision) of the estimators."
   ]
  },
  {
   "cell_type": "markdown",
   "metadata": {},
   "source": [
    "### Goodness of Fit\n",
    "\n",
    "The goodness of fit\n",
    "\\begin{align*}\n",
    "\\text{R}^2 = 1 - \\frac{e^\\intercal e}{\\sum_{i \\in N} (y_i - \\bar{y})^2}\n",
    "\\end{align*}\n",
    "\n",
    "where $\\bar{y}$ is the average of $y_i$ $\\forall i \\in N$. The proof that $0\\le R^2 \\le 1$ requires $X$ to contain a column of 1s, i.e., the constant term is in the model.\n",
    "\n",
    "The ANOVA Table for a regression with constant term is \n",
    "\n",
    "| Source           | <div style=\"width:180px\">Sum of Squares</div>| Degrees of Freedom |\n",
    "| :--------------- | ---------------------------------------- | ----- |\n",
    "| Regression (SSR) | $\\sum_{i \\in N} (\\hat{y}_i - \\bar{y})^2$ | $k-1$ |\n",
    "| Residual (SSE)   | $e^\\top e$                               | $n-k$ |\n",
    "| Total (SST)      | $\\sum_{i \\in N} (y_i - \\bar{y})^2$       | $n-1$ |"
   ]
  },
  {
   "cell_type": "code",
   "execution_count": 5,
   "metadata": {},
   "outputs": [
    {
     "data": {
      "text/html": [
       "<table>\n",
       "<thead><tr><th></th><th scope=col>Df</th><th scope=col>Sum Sq</th><th scope=col>Mean Sq</th><th scope=col>F value</th><th scope=col>Pr(&gt;F)</th></tr></thead>\n",
       "<tbody>\n",
       "\t<tr><th scope=row>trend</th><td> 1          </td><td>0.010309289 </td><td>0.010309289 </td><td> 0.50615187 </td><td>0.4930710459</td></tr>\n",
       "\t<tr><th scope=row>realgnp</th><td> 1          </td><td>0.737973153 </td><td>0.737973153 </td><td>36.23203121 </td><td>0.0001287546</td></tr>\n",
       "\t<tr><th scope=row>interest</th><td> 1          </td><td>0.006172822 </td><td>0.006172822 </td><td> 0.30306504 </td><td>0.5940507297</td></tr>\n",
       "\t<tr><th scope=row>infl</th><td> 1          </td><td>0.001750707 </td><td>0.001750707 </td><td> 0.08595389 </td><td>0.7753792228</td></tr>\n",
       "\t<tr><th scope=row>Residuals</th><td>10          </td><td>0.203679763 </td><td>0.020367976 </td><td>         NA </td><td>          NA</td></tr>\n",
       "</tbody>\n",
       "</table>\n"
      ],
      "text/latex": [
       "\\begin{tabular}{r|lllll}\n",
       "  & Df & Sum Sq & Mean Sq & F value & Pr(>F)\\\\\n",
       "\\hline\n",
       "\ttrend &  1           & 0.010309289  & 0.010309289  &  0.50615187  & 0.4930710459\\\\\n",
       "\trealgnp &  1           & 0.737973153  & 0.737973153  & 36.23203121  & 0.0001287546\\\\\n",
       "\tinterest &  1           & 0.006172822  & 0.006172822  &  0.30306504  & 0.5940507297\\\\\n",
       "\tinfl &  1           & 0.001750707  & 0.001750707  &  0.08595389  & 0.7753792228\\\\\n",
       "\tResiduals & 10           & 0.203679763  & 0.020367976  &          NA  &           NA\\\\\n",
       "\\end{tabular}\n"
      ],
      "text/markdown": [
       "\n",
       "| <!--/--> | Df | Sum Sq | Mean Sq | F value | Pr(>F) |\n",
       "|---|---|---|---|---|---|\n",
       "| trend |  1           | 0.010309289  | 0.010309289  |  0.50615187  | 0.4930710459 |\n",
       "| realgnp |  1           | 0.737973153  | 0.737973153  | 36.23203121  | 0.0001287546 |\n",
       "| interest |  1           | 0.006172822  | 0.006172822  |  0.30306504  | 0.5940507297 |\n",
       "| infl |  1           | 0.001750707  | 0.001750707  |  0.08595389  | 0.7753792228 |\n",
       "| Residuals | 10           | 0.203679763  | 0.020367976  |          NA  |           NA |\n",
       "\n"
      ],
      "text/plain": [
       "          Df Sum Sq      Mean Sq     F value     Pr(>F)      \n",
       "trend      1 0.010309289 0.010309289  0.50615187 0.4930710459\n",
       "realgnp    1 0.737973153 0.737973153 36.23203121 0.0001287546\n",
       "interest   1 0.006172822 0.006172822  0.30306504 0.5940507297\n",
       "infl       1 0.001750707 0.001750707  0.08595389 0.7753792228\n",
       "Residuals 10 0.203679763 0.020367976          NA           NA"
      ]
     },
     "metadata": {},
     "output_type": "display_data"
    }
   ],
   "source": [
    "anova(mdl)"
   ]
  },
  {
   "cell_type": "markdown",
   "metadata": {},
   "source": [
    "The anova  table can also be obtained by direct calculations."
   ]
  },
  {
   "cell_type": "code",
   "execution_count": 6,
   "metadata": {},
   "outputs": [
    {
     "data": {
      "text/html": [
       "<table>\n",
       "<thead><tr><th scope=col>sum sq for trend</th><th scope=col>sum sq for residuals</th><th scope=col>F value</th></tr></thead>\n",
       "<tbody>\n",
       "\t<tr><td>0.01030929</td><td>0.2036798 </td><td>0.5061519 </td></tr>\n",
       "</tbody>\n",
       "</table>\n"
      ],
      "text/latex": [
       "\\begin{tabular}{r|lll}\n",
       " sum sq for trend & sum sq for residuals & F value\\\\\n",
       "\\hline\n",
       "\t 0.01030929 & 0.2036798  & 0.5061519 \\\\\n",
       "\\end{tabular}\n"
      ],
      "text/markdown": [
       "\n",
       "| sum sq for trend | sum sq for residuals | F value |\n",
       "|---|---|---|\n",
       "| 0.01030929 | 0.2036798  | 0.5061519  |\n",
       "\n"
      ],
      "text/plain": [
       "  sum sq for trend sum sq for residuals F value  \n",
       "1 0.01030929       0.2036798            0.5061519"
      ]
     },
     "metadata": {},
     "output_type": "display_data"
    }
   ],
   "source": [
    "sumsq = sum((lm(realinv ~ trend, invest)$fit - mean(invest$realinv))^2)\n",
    "data.frame(\"sum sq for trend\" = sumsq,\n",
    "           'sum sq for residuals' = sum(mdl$resid^2),\n",
    "           'F value' = sumsq/(sum(mdl$resid^2)/10), check.names = FALSE)"
   ]
  },
  {
   "cell_type": "markdown",
   "metadata": {},
   "source": [
    "### Prediction\n",
    "\n",
    "A common use of regression modeling is for prediction of the dependent variable. \n",
    "\n",
    "- ex post prediction (or ex post forecast): the data used in the regression equation to make the prediction are either observed or constructed experimentally by the analyst. \n",
    "\n",
    "\n",
    "- ex ante forecast (in the time-series context): it requires the analyst to forecast the independent variables first before it is possible to forecast the dependent variable.\n",
    "\n",
    "The prediction $\\hat{y}^0 = b^\\top \\mathbf{x}^0$ where the actual value is $y^0 = \\beta^\\top \\mathbf{x}^0 + \\epsilon^0$. The prediction error is $e^0 = \\hat{y}^0 - y^0 = (b-\\beta)^\\top \\mathbf{x}^0 - \\epsilon^0$.\n",
    "\n",
    "The **prediction interval** is constructed based on the variance\n",
    "\n",
    "\\begin{align*}\n",
    "\\\\\n",
    "\\text{Var}(e^0|X, \\mathbf{x}^0) = \\sigma^2 + \\text{Var}\\big((b-\\beta)^\\top \\mathbf{x}^0|X, \\mathbf{x}^0\\big) = \\sigma^2 + (\\mathbf{x}^0)^\\top \\big( \\sigma^2 (X^\\top X)^{-1} \\big) \\mathbf{x}^0\n",
    "\\end{align*}\n",
    "\n",
    "The **confidence interval** is constructed based on the variance\n",
    "\n",
    "\\begin{align*}\n",
    "\\\\\n",
    "\\text{Var}(\\hat{y}^0 - \\text{E}(y^0)|X, \\mathbf{x}^0) = \\text{Var}\\big((b-\\beta)^\\top \\mathbf{x}^0|X, \\mathbf{x}^0\\big) = (\\mathbf{x}^0)^\\top \\big( \\sigma^2 (X^\\top X)^{-1} \\big) \\mathbf{x}^0\n",
    "\\end{align*}\n",
    "\n",
    "***\n",
    "\n",
    "Suppose the regression model describes $\\ln y$. The natural approach for a predictor is $\\ln y^0 = b^\\top \\mathbf{x}^0$ and $y^0 = \\exp(b^\\top \\mathbf{x}^0)$. The problem is that $\\text{E}(y^0|\\mathbf{x}^0) \\neq \\exp \\big(\\text{E}(\\ln y^0|\\mathbf{x}^0) \\big)$ and \n",
    "\\begin{align*}\n",
    "\\text{E}(y^0|\\mathbf{x}^0) = \\text{E}(\\exp(\\beta^\\top \\mathbf{x}^0 + \\epsilon^0)|\\mathbf{x}^0) = \\exp(\\beta^\\top \\mathbf{x}^0)  \\text{E}(\\exp(\\epsilon^0)|\\mathbf{x}^0)\n",
    "\\end{align*}\n",
    "\n",
    "The implication for normally distributed error terms would be that an appropriate predictor for the conditional mean would be\n",
    "\\begin{align*}\n",
    "\\\\\n",
    "\\hat{y}^0 = \\exp(b^\\top \\mathbf{x}^0 + s^2/2) > \\exp(b^\\top \\mathbf{x}^0)\n",
    "\\end{align*}\n",
    "\n",
    "***\n",
    "\n",
    "The prediction interval can be $[b^\\top \\mathbf{x}^0 \\pm \\text{t-value } \\times se(e^0)]$. However, this may not be the narrowest interval with given confidence level. The narrowest interval can be found by solving an optimization problem."
   ]
  },
  {
   "cell_type": "markdown",
   "metadata": {},
   "source": [
    "## Data Problems"
   ]
  },
  {
   "cell_type": "markdown",
   "metadata": {},
   "source": [
    "### Multicollinearity\n",
    "\n",
    "Multicollinearity exists when two or more of the predictors in a regression model are moderately or highly correlated with one another. The exact linear relationship is fairly simple to spot because regression packages will typically respond with an error message. A more common and serious problem is multicollinearity, where explanatory variables are highly, but not exactly, correlated.\n",
    "\n",
    "There are two types of multicollinearity:\n",
    "\n",
    "- Structural multicollinearity is a mathematical artifact caused by creating new predictors from other predictors — such as, creating the predictor X2 from the predictor X.\n",
    "\n",
    "- Data-based multicollinearity, on the other hand, is a result of a poorly designed experiment, reliance on purely observational data, or the inability to manipulate the system on which the data are collected.\n",
    "\n",
    "Variance inflation factor (VIF) can be used to identify multicollinearity. The VIF for $x_i$ is defined as 1/(1 - R-square for $x_i$), where R-square for $x_i$ is the usual R-square value from regressing $x_i$ on all other explanatory variables. Example 4.11 in Greene (2003)."
   ]
  },
  {
   "cell_type": "markdown",
   "metadata": {},
   "source": [
    "The multicollinearity can be reduced by using a small number of principal components constructed as linear combinations of the $k$ original variables. \n",
    "\n",
    "Table F4.2: The Longley Data, 15 Yearly Observations, 1947-1962 <br>\n",
    "Source: [Example 4.11 in Greene (2003)](http://pages.stern.nyu.edu/~wgreene/Text/Edition7/tablelist8new.htm)\n",
    "\n",
    "- Employ = Employment (1000s),\n",
    "- Price = GNP deflator,\n",
    "- GNP = Nominal GNP (millions),\n",
    "- Armed = Armed forces,\n",
    "- Year = Date.\n",
    "\n",
    "The model is `employ ~ year + price + gnp + armed`. The data is notorious for severe multicollinearity. The results show the dramatic effect of dropping the last observation where year is 1962."
   ]
  },
  {
   "cell_type": "code",
   "execution_count": 7,
   "metadata": {},
   "outputs": [
    {
     "data": {
      "text/html": [
       "<a href=\"#\" onclick=\"code_toggle(this); return false;\">show code</a>"
      ]
     },
     "metadata": {},
     "output_type": "display_data"
    },
    {
     "data": {
      "text/html": [
       "<table>\n",
       "<thead><tr><th scope=col>employ</th><th scope=col>price</th><th scope=col>gnp</th><th scope=col>armed</th><th scope=col>year</th></tr></thead>\n",
       "<tbody>\n",
       "\t<tr><td>60323 </td><td>83.0  </td><td>234289</td><td>1590  </td><td>1947  </td></tr>\n",
       "\t<tr><td>61122 </td><td>88.5  </td><td>259426</td><td>1456  </td><td>1948  </td></tr>\n",
       "\t<tr><td>60171 </td><td>88.2  </td><td>258054</td><td>1616  </td><td>1949  </td></tr>\n",
       "\t<tr><td>61187 </td><td>89.5  </td><td>284599</td><td>1650  </td><td>1950  </td></tr>\n",
       "\t<tr><td>63221 </td><td>96.2  </td><td>328975</td><td>3099  </td><td>1951  </td></tr>\n",
       "\t<tr><td>63639 </td><td>98.1  </td><td>346999</td><td>3594  </td><td>1952  </td></tr>\n",
       "</tbody>\n",
       "</table>\n"
      ],
      "text/latex": [
       "\\begin{tabular}{r|lllll}\n",
       " employ & price & gnp & armed & year\\\\\n",
       "\\hline\n",
       "\t 60323  & 83.0   & 234289 & 1590   & 1947  \\\\\n",
       "\t 61122  & 88.5   & 259426 & 1456   & 1948  \\\\\n",
       "\t 60171  & 88.2   & 258054 & 1616   & 1949  \\\\\n",
       "\t 61187  & 89.5   & 284599 & 1650   & 1950  \\\\\n",
       "\t 63221  & 96.2   & 328975 & 3099   & 1951  \\\\\n",
       "\t 63639  & 98.1   & 346999 & 3594   & 1952  \\\\\n",
       "\\end{tabular}\n"
      ],
      "text/markdown": [
       "\n",
       "| employ | price | gnp | armed | year |\n",
       "|---|---|---|---|---|\n",
       "| 60323  | 83.0   | 234289 | 1590   | 1947   |\n",
       "| 61122  | 88.5   | 259426 | 1456   | 1948   |\n",
       "| 60171  | 88.2   | 258054 | 1616   | 1949   |\n",
       "| 61187  | 89.5   | 284599 | 1650   | 1950   |\n",
       "| 63221  | 96.2   | 328975 | 3099   | 1951   |\n",
       "| 63639  | 98.1   | 346999 | 3594   | 1952   |\n",
       "\n"
      ],
      "text/plain": [
       "  employ price gnp    armed year\n",
       "1 60323  83.0  234289 1590  1947\n",
       "2 61122  88.5  259426 1456  1948\n",
       "3 60171  88.2  258054 1616  1949\n",
       "4 61187  89.5  284599 1650  1950\n",
       "5 63221  96.2  328975 3099  1951\n",
       "6 63639  98.1  346999 3594  1952"
      ]
     },
     "metadata": {},
     "output_type": "display_data"
    },
    {
     "data": {
      "text/html": [
       "<table>\n",
       "<thead><tr><th></th><th scope=col>1947-1961</th><th scope=col>VIF(1947-1961)</th><th scope=col>1947-1962</th><th scope=col>VIF(1947-1962)</th></tr></thead>\n",
       "<tbody>\n",
       "\t<tr><th scope=row>(Intercept)</th><td> 1.459415e+06</td><td>        NA   </td><td> 1.169088e+06</td><td>        NA   </td></tr>\n",
       "\t<tr><th scope=row>year</th><td>-7.217561e+02</td><td>121.533754   </td><td>-5.764643e+02</td><td>143.463545   </td></tr>\n",
       "\t<tr><th scope=row>price</th><td>-1.811230e+02</td><td> 87.346665   </td><td>-1.976807e+01</td><td> 75.670734   </td></tr>\n",
       "\t<tr><th scope=row>gnp</th><td> 9.106778e-02</td><td>154.075397   </td><td> 6.439397e-02</td><td>132.463801   </td></tr>\n",
       "\t<tr><th scope=row>armed</th><td>-7.493705e-02</td><td>  1.559474   </td><td>-1.014525e-02</td><td>  1.553191   </td></tr>\n",
       "</tbody>\n",
       "</table>\n"
      ],
      "text/latex": [
       "\\begin{tabular}{r|llll}\n",
       "  & 1947-1961 & VIF(1947-1961) & 1947-1962 & VIF(1947-1962)\\\\\n",
       "\\hline\n",
       "\t(Intercept) &  1.459415e+06 &         NA    &  1.169088e+06 &         NA   \\\\\n",
       "\tyear & -7.217561e+02 & 121.533754    & -5.764643e+02 & 143.463545   \\\\\n",
       "\tprice & -1.811230e+02 &  87.346665    & -1.976807e+01 &  75.670734   \\\\\n",
       "\tgnp &  9.106778e-02 & 154.075397    &  6.439397e-02 & 132.463801   \\\\\n",
       "\tarmed & -7.493705e-02 &   1.559474    & -1.014525e-02 &   1.553191   \\\\\n",
       "\\end{tabular}\n"
      ],
      "text/markdown": [
       "\n",
       "| <!--/--> | 1947-1961 | VIF(1947-1961) | 1947-1962 | VIF(1947-1962) |\n",
       "|---|---|---|---|---|\n",
       "| (Intercept) |  1.459415e+06 |         NA    |  1.169088e+06 |         NA    |\n",
       "| year | -7.217561e+02 | 121.533754    | -5.764643e+02 | 143.463545    |\n",
       "| price | -1.811230e+02 |  87.346665    | -1.976807e+01 |  75.670734    |\n",
       "| gnp |  9.106778e-02 | 154.075397    |  6.439397e-02 | 132.463801    |\n",
       "| armed | -7.493705e-02 |   1.559474    | -1.014525e-02 |   1.553191    |\n",
       "\n"
      ],
      "text/plain": [
       "            1947-1961     VIF(1947-1961) 1947-1962     VIF(1947-1962)\n",
       "(Intercept)  1.459415e+06         NA      1.169088e+06         NA    \n",
       "year        -7.217561e+02 121.533754     -5.764643e+02 143.463545    \n",
       "price       -1.811230e+02  87.346665     -1.976807e+01  75.670734    \n",
       "gnp          9.106778e-02 154.075397      6.439397e-02 132.463801    \n",
       "armed       -7.493705e-02   1.559474     -1.014525e-02   1.553191    "
      ]
     },
     "metadata": {},
     "output_type": "display_data"
    },
    {
     "name": "stdout",
     "output_type": "stream",
     "text": [
      "VIF for year: 143.4635"
     ]
    }
   ],
   "source": [
    "toggle()\n",
    "longley <- read.csv(paste(datapath, 'TableF4-2.csv', sep=''))\n",
    "head(longley)\n",
    "mdl0 <- lm(employ ~ year + price + gnp + armed, longley[longley$year<1962,])\n",
    "mdl1 <- lm(employ ~ year + price + gnp + armed, longley)\n",
    "report <- cbind('1947-1961'=coef(summary(mdl0))[,c('Estimate')], \n",
    "                'VIF(1947-1961)' = c(NA, vif(mdl0)), \n",
    "                '1947-1962'=coef(summary(mdl1))[,c('Estimate')],\n",
    "                'VIF(1947-1962)' = c(NA, vif(mdl1)))\n",
    "report\n",
    "mdl2 <- lm(year ~ price + gnp + armed, longley)\n",
    "cat('VIF for year:', 1/(1-summary(mdl2)$r.squared))"
   ]
  },
  {
   "cell_type": "markdown",
   "metadata": {},
   "source": [
    "Table F4.3: Movie Buzz Data (62 Observations) <br>\n",
    "Source: [Example 4.12 in Greene (2003)](http://pages.stern.nyu.edu/~wgreene/Text/Edition7/tablelist8new.htm)\n",
    "\n",
    "- Box = First run U.S. box office (\\$),\n",
    "- MPRating = MPAA Rating code, 1=G, 2=PG, 3=PG13, 4=R,\n",
    "- Budget = Production budget (\\$Mil),\n",
    "- Starpowr = Index of star poser,\n",
    "- Sequel = 1 if movie is a sequel, 0 if not,\n",
    "- Action = 1 if action film, 0 if not,\n",
    "- Comedy = 1 if comedy film, 0 if not,\n",
    "- Animated = 1 if animated film, 0 if not,\n",
    "- Horror = 1 if horror film, 0 if not,\n",
    "- Addict = Trailer views at traileraddict.com,\n",
    "- Cmngsoon = Message board comments at comingsoon.net,\n",
    "- Fandango = Attention at fandango.com (see Example 4.12),\n",
    "- Cntwait3 = Percentage of Fandango votes that can't wait to see.\n",
    "\n",
    "The dependent variable is $\\log(\\text{box})$. We show that principal component variable `buzz` is a highly significant predictor of success. \n",
    "\n",
    "Let $Z = \\text{colums of }(log(\\text{Addict}), log(\\text{Cmngsoon}), log(\\text{Fandango}), \\text{Cntwait3})$, $V$ be its sample correlation matrix, and $c_1$ be the eigenvector of $V$ associated with the largest eigenvalue. The variable `buzz` is defined as $Z c_1$."
   ]
  },
  {
   "cell_type": "code",
   "execution_count": 8,
   "metadata": {
    "scrolled": false
   },
   "outputs": [
    {
     "data": {
      "text/html": [
       "<a href=\"#\" onclick=\"code_toggle(this); return false;\">show code</a>"
      ]
     },
     "metadata": {},
     "output_type": "display_data"
    },
    {
     "data": {
      "text/html": [
       "<table>\n",
       "<thead><tr><th></th><th scope=col>Estimate</th><th scope=col>Std. Error</th><th scope=col>t value</th><th scope=col>Estimate</th><th scope=col>Std. Error</th><th scope=col>t value</th></tr></thead>\n",
       "<tbody>\n",
       "\t<tr><th scope=row>(Intercept)</th><td>15.400213468</td><td>0.64273405  </td><td>23.96047558 </td><td>13.576811966</td><td>0.68824743  </td><td>19.7266439  </td></tr>\n",
       "\t<tr><th scope=row>action</th><td>-0.869315939</td><td>0.29333401  </td><td>-2.96357019 </td><td>-0.306818320</td><td>0.34401299  </td><td>-0.8918800  </td></tr>\n",
       "\t<tr><th scope=row>comedy</th><td>-0.016217801</td><td>0.25608384  </td><td>-0.06333004 </td><td>-0.038453159</td><td>0.32060923  </td><td>-0.1199378  </td></tr>\n",
       "\t<tr><th scope=row>animated</th><td>-0.833237280</td><td>0.43022317  </td><td>-1.93675595 </td><td>-0.820317586</td><td>0.53868609  </td><td>-1.5228119  </td></tr>\n",
       "\t<tr><th scope=row>horror</th><td> 0.374599916</td><td>0.37109194  </td><td> 1.00945311 </td><td> 1.026439228</td><td>0.44007723  </td><td> 2.3324070  </td></tr>\n",
       "\t<tr><th scope=row>mprating1</th><td> 0.384402032</td><td>0.55315049  </td><td> 0.69493210 </td><td> 0.252418678</td><td>0.69195645  </td><td> 0.3647898  </td></tr>\n",
       "\t<tr><th scope=row>mprating2</th><td> 0.533586045</td><td>0.29976318  </td><td> 1.78002529 </td><td> 0.329695048</td><td>0.37243233  </td><td> 0.8852482  </td></tr>\n",
       "\t<tr><th scope=row>mprating3</th><td> 0.215047402</td><td>0.21884853  </td><td> 0.98263122 </td><td> 0.071762221</td><td>0.27205875  </td><td> 0.2637747  </td></tr>\n",
       "\t<tr><th scope=row>log(budget)</th><td> 0.260878316</td><td>0.18529391  </td><td> 1.40791633 </td><td> 0.709142449</td><td>0.20811936  </td><td> 3.4073833  </td></tr>\n",
       "\t<tr><th scope=row>sequel</th><td> 0.275054967</td><td>0.27312801  </td><td> 1.00705513 </td><td> 0.643679087</td><td>0.33143140  </td><td> 1.9421186  </td></tr>\n",
       "\t<tr><th scope=row>starpowr</th><td> 0.004326367</td><td>0.01284860  </td><td> 0.33671885 </td><td> 0.006481083</td><td>0.01608054  </td><td> 0.4030390  </td></tr>\n",
       "\t<tr><th scope=row>buzz</th><td>-0.429063689</td><td>0.07838958  </td><td>-5.47347874 </td><td>          NA</td><td>        NA  </td><td>        NA  </td></tr>\n",
       "\t<tr><th scope=row>R-squared</th><td> 0.588832187</td><td>        NA  </td><td>         NA </td><td> 0.342468907</td><td>        NA  </td><td>        NA  </td></tr>\n",
       "\t<tr><th scope=row>resid</th><td>22.302150634</td><td>        NA  </td><td>         NA </td><td>35.665139658</td><td>        NA  </td><td>        NA  </td></tr>\n",
       "</tbody>\n",
       "</table>\n"
      ],
      "text/latex": [
       "\\begin{tabular}{r|llllll}\n",
       "  & Estimate & Std. Error & t value & Estimate & Std. Error & t value\\\\\n",
       "\\hline\n",
       "\t(Intercept) & 15.400213468 & 0.64273405   & 23.96047558  & 13.576811966 & 0.68824743   & 19.7266439  \\\\\n",
       "\taction & -0.869315939 & 0.29333401   & -2.96357019  & -0.306818320 & 0.34401299   & -0.8918800  \\\\\n",
       "\tcomedy & -0.016217801 & 0.25608384   & -0.06333004  & -0.038453159 & 0.32060923   & -0.1199378  \\\\\n",
       "\tanimated & -0.833237280 & 0.43022317   & -1.93675595  & -0.820317586 & 0.53868609   & -1.5228119  \\\\\n",
       "\thorror &  0.374599916 & 0.37109194   &  1.00945311  &  1.026439228 & 0.44007723   &  2.3324070  \\\\\n",
       "\tmprating1 &  0.384402032 & 0.55315049   &  0.69493210  &  0.252418678 & 0.69195645   &  0.3647898  \\\\\n",
       "\tmprating2 &  0.533586045 & 0.29976318   &  1.78002529  &  0.329695048 & 0.37243233   &  0.8852482  \\\\\n",
       "\tmprating3 &  0.215047402 & 0.21884853   &  0.98263122  &  0.071762221 & 0.27205875   &  0.2637747  \\\\\n",
       "\tlog(budget) &  0.260878316 & 0.18529391   &  1.40791633  &  0.709142449 & 0.20811936   &  3.4073833  \\\\\n",
       "\tsequel &  0.275054967 & 0.27312801   &  1.00705513  &  0.643679087 & 0.33143140   &  1.9421186  \\\\\n",
       "\tstarpowr &  0.004326367 & 0.01284860   &  0.33671885  &  0.006481083 & 0.01608054   &  0.4030390  \\\\\n",
       "\tbuzz & -0.429063689 & 0.07838958   & -5.47347874  &           NA &         NA   &         NA  \\\\\n",
       "\tR-squared &  0.588832187 &         NA   &          NA  &  0.342468907 &         NA   &         NA  \\\\\n",
       "\tresid & 22.302150634 &         NA   &          NA  & 35.665139658 &         NA   &         NA  \\\\\n",
       "\\end{tabular}\n"
      ],
      "text/markdown": [
       "\n",
       "| <!--/--> | Estimate | Std. Error | t value | Estimate | Std. Error | t value |\n",
       "|---|---|---|---|---|---|---|\n",
       "| (Intercept) | 15.400213468 | 0.64273405   | 23.96047558  | 13.576811966 | 0.68824743   | 19.7266439   |\n",
       "| action | -0.869315939 | 0.29333401   | -2.96357019  | -0.306818320 | 0.34401299   | -0.8918800   |\n",
       "| comedy | -0.016217801 | 0.25608384   | -0.06333004  | -0.038453159 | 0.32060923   | -0.1199378   |\n",
       "| animated | -0.833237280 | 0.43022317   | -1.93675595  | -0.820317586 | 0.53868609   | -1.5228119   |\n",
       "| horror |  0.374599916 | 0.37109194   |  1.00945311  |  1.026439228 | 0.44007723   |  2.3324070   |\n",
       "| mprating1 |  0.384402032 | 0.55315049   |  0.69493210  |  0.252418678 | 0.69195645   |  0.3647898   |\n",
       "| mprating2 |  0.533586045 | 0.29976318   |  1.78002529  |  0.329695048 | 0.37243233   |  0.8852482   |\n",
       "| mprating3 |  0.215047402 | 0.21884853   |  0.98263122  |  0.071762221 | 0.27205875   |  0.2637747   |\n",
       "| log(budget) |  0.260878316 | 0.18529391   |  1.40791633  |  0.709142449 | 0.20811936   |  3.4073833   |\n",
       "| sequel |  0.275054967 | 0.27312801   |  1.00705513  |  0.643679087 | 0.33143140   |  1.9421186   |\n",
       "| starpowr |  0.004326367 | 0.01284860   |  0.33671885  |  0.006481083 | 0.01608054   |  0.4030390   |\n",
       "| buzz | -0.429063689 | 0.07838958   | -5.47347874  |           NA |         NA   |         NA   |\n",
       "| R-squared |  0.588832187 |         NA   |          NA  |  0.342468907 |         NA   |         NA   |\n",
       "| resid | 22.302150634 |         NA   |          NA  | 35.665139658 |         NA   |         NA   |\n",
       "\n"
      ],
      "text/plain": [
       "            Estimate     Std. Error t value     Estimate     Std. Error\n",
       "(Intercept) 15.400213468 0.64273405 23.96047558 13.576811966 0.68824743\n",
       "action      -0.869315939 0.29333401 -2.96357019 -0.306818320 0.34401299\n",
       "comedy      -0.016217801 0.25608384 -0.06333004 -0.038453159 0.32060923\n",
       "animated    -0.833237280 0.43022317 -1.93675595 -0.820317586 0.53868609\n",
       "horror       0.374599916 0.37109194  1.00945311  1.026439228 0.44007723\n",
       "mprating1    0.384402032 0.55315049  0.69493210  0.252418678 0.69195645\n",
       "mprating2    0.533586045 0.29976318  1.78002529  0.329695048 0.37243233\n",
       "mprating3    0.215047402 0.21884853  0.98263122  0.071762221 0.27205875\n",
       "log(budget)  0.260878316 0.18529391  1.40791633  0.709142449 0.20811936\n",
       "sequel       0.275054967 0.27312801  1.00705513  0.643679087 0.33143140\n",
       "starpowr     0.004326367 0.01284860  0.33671885  0.006481083 0.01608054\n",
       "buzz        -0.429063689 0.07838958 -5.47347874           NA         NA\n",
       "R-squared    0.588832187         NA          NA  0.342468907         NA\n",
       "resid       22.302150634         NA          NA 35.665139658         NA\n",
       "            t value   \n",
       "(Intercept) 19.7266439\n",
       "action      -0.8918800\n",
       "comedy      -0.1199378\n",
       "animated    -1.5228119\n",
       "horror       2.3324070\n",
       "mprating1    0.3647898\n",
       "mprating2    0.8852482\n",
       "mprating3    0.2637747\n",
       "log(budget)  3.4073833\n",
       "sequel       1.9421186\n",
       "starpowr     0.4030390\n",
       "buzz                NA\n",
       "R-squared           NA\n",
       "resid               NA"
      ]
     },
     "metadata": {},
     "output_type": "display_data"
    }
   ],
   "source": [
    "toggle()\n",
    "movie <- read.csv(paste(datapath, 'TableF4-3.csv', sep=''))\n",
    "movie <- within(movie, mprating <- relevel(as.factor(mprating), ref=4))\n",
    "mdl0 <- lm(log(box)~action+comedy+animated+horror+mprating+log(budget)+sequel+starpowr, movie)\n",
    "\n",
    "Z <- data.matrix(scale(cbind(log(movie[,10:12]),'cntwait3'=movie[,13])))\n",
    "V <- (t(Z) %*% Z)/(nrow(Z)-1)\n",
    "c1 <- eigen(V)$vectors[,which.max(eigen(V)$values)]\n",
    "movie$buzz <- Z %*% c1\n",
    "mdl1 <- lm(log(box)~action+comedy+animated+horror+mprating+log(budget)+sequel+starpowr+buzz, movie)\n",
    "ret <- cbind(coef(summary(mdl1))[,c('Estimate','Std. Error','t value')],\n",
    "             rbind(coef(summary(mdl0))[,c('Estimate','Std. Error','t value')],rep(NA,3)))\n",
    "ret <- rbind(ret, 'R-squared'=c(summary(mdl1)$r.squared, rep(NA,2), \n",
    "                                summary(mdl0)$r.squared, rep(NA,2)))\n",
    "ret <- rbind(ret, 'resid'=c(sum(summary(mdl1)$resid^2), rep(NA,2), \n",
    "                            sum(summary(mdl0)$resid^2), rep(NA,2)))\n",
    "ret"
   ]
  },
  {
   "cell_type": "markdown",
   "metadata": {},
   "source": [
    "### Missing Values\n",
    "\n",
    "There are a variety of data imputation methods to fill gaps in data sets:\n",
    "\n",
    "- replacing each missing $x$ with $\\bar{x}$ based on the observed data. It is equivalent to dropping the incomplete data, but has a lower $R^2$.\n",
    "- adding a dummy column with 1 for missing observations and 0 otherwise.\n",
    "- estimating its value by regressing on other dependent variables plus a random noise."
   ]
  },
  {
   "cell_type": "markdown",
   "metadata": {},
   "source": [
    "### Influential Observations\n",
    "\n",
    "An influential observation is one that is likely to have a substantial impact on the least squares regression coefficient(s). \n",
    "\n",
    "Since OLS minimizes sum of squared residuals, an observation with $x$ value far from the $\\text{avg}(x)$ may have huge influence on the estimation of $\\beta$.  If we run regression, we may find the residual of this observation is not large (not an outlier)."
   ]
  }
 ],
 "metadata": {
  "kernelspec": {
   "display_name": "R",
   "language": "R",
   "name": "ir"
  },
  "language_info": {
   "codemirror_mode": "r",
   "file_extension": ".r",
   "mimetype": "text/x-r-source",
   "name": "R",
   "pygments_lexer": "r",
   "version": "3.6.1"
  },
  "latex_envs": {
   "LaTeX_envs_menu_present": true,
   "autoclose": false,
   "autocomplete": false,
   "bibliofile": "biblio.bib",
   "cite_by": "apalike",
   "current_citInitial": 1,
   "eqLabelWithNumbers": true,
   "eqNumInitial": 1,
   "hotkeys": {
    "equation": "Ctrl-E",
    "itemize": "Ctrl-I"
   },
   "labels_anchors": false,
   "latex_user_defs": false,
   "report_style_numbering": false,
   "user_envs_cfg": false
  },
  "toc": {
   "base_numbering": 1,
   "nav_menu": {},
   "number_sections": true,
   "sideBar": true,
   "skip_h1_title": false,
   "title_cell": "Table of Contents",
   "title_sidebar": "Contents",
   "toc_cell": false,
   "toc_position": {
    "height": "calc(100% - 180px)",
    "left": "10px",
    "top": "150px",
    "width": "384px"
   },
   "toc_section_display": true,
   "toc_window_display": true
  }
 },
 "nbformat": 4,
 "nbformat_minor": 4
}
